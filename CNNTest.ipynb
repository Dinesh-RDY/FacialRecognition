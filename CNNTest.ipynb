{
 "cells": [
  {
   "cell_type": "code",
   "execution_count": 1,
   "id": "3f2cd1bc",
   "metadata": {},
   "outputs": [],
   "source": [
    "import tensorflow as tf\n",
    "from tensorflow import keras \n",
    "import numpy as np\n",
    "from PIL import Image"
   ]
  },
  {
   "cell_type": "code",
   "execution_count": 2,
   "id": "33886116",
   "metadata": {},
   "outputs": [
    {
     "data": {
      "text/plain": [
       "'2.10.0'"
      ]
     },
     "execution_count": 2,
     "metadata": {},
     "output_type": "execute_result"
    }
   ],
   "source": [
    "tf.__version__"
   ]
  },
  {
   "cell_type": "code",
   "execution_count": 3,
   "id": "7ac4497b",
   "metadata": {},
   "outputs": [],
   "source": [
    "import os"
   ]
  },
  {
   "cell_type": "code",
   "execution_count": 4,
   "id": "3df849e4",
   "metadata": {},
   "outputs": [],
   "source": [
    "rootdir = \"./test/CNN/\"\n",
    "labels = []\n",
    "for file in os.listdir(rootdir):\n",
    "    labels.append(file)\n",
    "    "
   ]
  },
  {
   "cell_type": "code",
   "execution_count": 5,
   "id": "d168b929",
   "metadata": {},
   "outputs": [
    {
     "data": {
      "text/plain": [
       "['1']"
      ]
     },
     "execution_count": 5,
     "metadata": {},
     "output_type": "execute_result"
    }
   ],
   "source": [
    "labels"
   ]
  },
  {
   "cell_type": "code",
   "execution_count": 6,
   "id": "f93be077",
   "metadata": {},
   "outputs": [],
   "source": [
    "x , y = [] , []"
   ]
  },
  {
   "cell_type": "code",
   "execution_count": 7,
   "id": "9e506301",
   "metadata": {},
   "outputs": [],
   "source": [
    "for index , label in enumerate(labels):\n",
    "    path = rootdir + label\n",
    "    for file in os.listdir(path):\n",
    "        img = Image.open(os.path.join(path , file) , \"r\")\n",
    "        img = np.asarray(img)\n",
    "        x.append(img / 255)\n",
    "        y.append(index)"
   ]
  },
  {
   "cell_type": "code",
   "execution_count": 8,
   "id": "5f9b4c56",
   "metadata": {},
   "outputs": [
    {
     "data": {
      "text/plain": [
       "11"
      ]
     },
     "execution_count": 8,
     "metadata": {},
     "output_type": "execute_result"
    }
   ],
   "source": [
    "len(x)"
   ]
  },
  {
   "cell_type": "code",
   "execution_count": 9,
   "id": "1a5dde66",
   "metadata": {},
   "outputs": [
    {
     "data": {
      "text/plain": [
       "array([[[0.16862745, 0.16470588, 0.15686275],\n",
       "        [0.16078431, 0.15686275, 0.14901961],\n",
       "        [0.17254902, 0.17254902, 0.16470588],\n",
       "        ...,\n",
       "        [0.75686275, 0.7254902 , 0.71764706],\n",
       "        [0.75294118, 0.72156863, 0.71372549],\n",
       "        [0.74901961, 0.71764706, 0.70980392]],\n",
       "\n",
       "       [[0.16470588, 0.16078431, 0.15294118],\n",
       "        [0.15686275, 0.15294118, 0.14509804],\n",
       "        [0.16862745, 0.16862745, 0.16078431],\n",
       "        ...,\n",
       "        [0.75686275, 0.7254902 , 0.71764706],\n",
       "        [0.75686275, 0.7254902 , 0.71764706],\n",
       "        [0.75686275, 0.7254902 , 0.71764706]],\n",
       "\n",
       "       [[0.17254902, 0.17254902, 0.16470588],\n",
       "        [0.15686275, 0.15686275, 0.14901961],\n",
       "        [0.16078431, 0.16078431, 0.15294118],\n",
       "        ...,\n",
       "        [0.76470588, 0.73333333, 0.7254902 ],\n",
       "        [0.76470588, 0.73333333, 0.7254902 ],\n",
       "        [0.76470588, 0.73333333, 0.7254902 ]],\n",
       "\n",
       "       ...,\n",
       "\n",
       "       [[0.24705882, 0.24705882, 0.25490196],\n",
       "        [0.24705882, 0.24705882, 0.25490196],\n",
       "        [0.30980392, 0.30980392, 0.31764706],\n",
       "        ...,\n",
       "        [0.58823529, 0.55686275, 0.54509804],\n",
       "        [0.58823529, 0.55686275, 0.54509804],\n",
       "        [0.58431373, 0.55294118, 0.54117647]],\n",
       "\n",
       "       [[0.21960784, 0.22352941, 0.23921569],\n",
       "        [0.21176471, 0.21568627, 0.23137255],\n",
       "        [0.21568627, 0.21960784, 0.23529412],\n",
       "        ...,\n",
       "        [0.58823529, 0.55686275, 0.54509804],\n",
       "        [0.58823529, 0.56078431, 0.5372549 ],\n",
       "        [0.58823529, 0.56078431, 0.5372549 ]],\n",
       "\n",
       "       [[0.30196078, 0.30588235, 0.32156863],\n",
       "        [0.28627451, 0.29019608, 0.30588235],\n",
       "        [0.25490196, 0.25882353, 0.2745098 ],\n",
       "        ...,\n",
       "        [0.58431373, 0.55294118, 0.54117647],\n",
       "        [0.59215686, 0.56470588, 0.54117647],\n",
       "        [0.59607843, 0.56862745, 0.54509804]]])"
      ]
     },
     "execution_count": 9,
     "metadata": {},
     "output_type": "execute_result"
    }
   ],
   "source": [
    "x[0]"
   ]
  },
  {
   "cell_type": "code",
   "execution_count": 10,
   "id": "14c1dac7",
   "metadata": {},
   "outputs": [],
   "source": [
    "x = np.asarray(x)\n",
    "y = np.asarray(y)"
   ]
  },
  {
   "cell_type": "code",
   "execution_count": 11,
   "id": "6a1e4d35",
   "metadata": {},
   "outputs": [
    {
     "data": {
      "text/plain": [
       "(11, 256, 256, 3)"
      ]
     },
     "execution_count": 11,
     "metadata": {},
     "output_type": "execute_result"
    }
   ],
   "source": [
    "x.shape"
   ]
  },
  {
   "cell_type": "code",
   "execution_count": 13,
   "id": "4e8c4ded",
   "metadata": {},
   "outputs": [],
   "source": [
    "# from functools import partial\n",
    "\n",
    "# defaultcon3d = partial(keras.layers.Conv2D , kernel_size = 3 , activation = 'relu' , padding = \"SAME\") \n",
    "# model = keras.models.Sequential([\n",
    "#     defaultcon3d(kernel_size = 7 , filters = 64 , input_shape = [256,256,3]),\n",
    "#     keras.layers.MaxPooling2D(pool_size = 2),\n",
    "#     defaultcon3d(filters = 64),\n",
    "#     defaultcon3d(filters = 64),\n",
    "#     keras.layers.MaxPooling2D(pool_size = 2),\n",
    "#     defaultcon3d(filters = 128),\n",
    "#     defaultcon3d(filters = 128),\n",
    "#     keras.layers.MaxPooling2D(pool_size = 2),\n",
    "#     keras.layers.Flatten(),\n",
    "#     keras.layers.Dense(units = 150 , activation = 'relu'),\n",
    "#     keras.layers.Dropout(0.5),\n",
    "#     keras.layers.Dense(units = 100 , activation = 'relu'),\n",
    "#     keras.layers.Dropout(0.5),\n",
    "#     keras.layers.Dense(units = len(labels) , activation = 'softmax')\n",
    "# ])\n",
    "\n",
    "model = keras.models.load_model(\"modelCNN.h5\")"
   ]
  },
  {
   "cell_type": "code",
   "execution_count": 14,
   "id": "97f2ccd9",
   "metadata": {},
   "outputs": [
    {
     "name": "stdout",
     "output_type": "stream",
     "text": [
      "Model: \"sequential\"\n",
      "_________________________________________________________________\n",
      " Layer (type)                Output Shape              Param #   \n",
      "=================================================================\n",
      " conv2d (Conv2D)             (None, 256, 256, 64)      9472      \n",
      "                                                                 \n",
      " max_pooling2d (MaxPooling2D  (None, 128, 128, 64)     0         \n",
      " )                                                               \n",
      "                                                                 \n",
      " conv2d_1 (Conv2D)           (None, 128, 128, 64)      36928     \n",
      "                                                                 \n",
      " conv2d_2 (Conv2D)           (None, 128, 128, 64)      36928     \n",
      "                                                                 \n",
      " max_pooling2d_1 (MaxPooling  (None, 64, 64, 64)       0         \n",
      " 2D)                                                             \n",
      "                                                                 \n",
      " conv2d_3 (Conv2D)           (None, 64, 64, 128)       73856     \n",
      "                                                                 \n",
      " conv2d_4 (Conv2D)           (None, 64, 64, 128)       147584    \n",
      "                                                                 \n",
      " max_pooling2d_2 (MaxPooling  (None, 32, 32, 128)      0         \n",
      " 2D)                                                             \n",
      "                                                                 \n",
      " flatten (Flatten)           (None, 131072)            0         \n",
      "                                                                 \n",
      " dense (Dense)               (None, 150)               19660950  \n",
      "                                                                 \n",
      " dropout (Dropout)           (None, 150)               0         \n",
      "                                                                 \n",
      " dense_1 (Dense)             (None, 100)               15100     \n",
      "                                                                 \n",
      " dropout_1 (Dropout)         (None, 100)               0         \n",
      "                                                                 \n",
      " dense_2 (Dense)             (None, 4)                 404       \n",
      "                                                                 \n",
      "=================================================================\n",
      "Total params: 19,981,222\n",
      "Trainable params: 19,981,222\n",
      "Non-trainable params: 0\n",
      "_________________________________________________________________\n"
     ]
    }
   ],
   "source": [
    "model.summary()"
   ]
  },
  {
   "cell_type": "code",
   "execution_count": 15,
   "id": "2f3e36a3",
   "metadata": {},
   "outputs": [],
   "source": [
    "model.compile(metrics = [\"accuracy\"] , loss = \"sparse_categorical_crossentropy\" , optimizer = \"adam\")"
   ]
  },
  {
   "cell_type": "code",
   "execution_count": 16,
   "id": "caf08e6f",
   "metadata": {},
   "outputs": [],
   "source": [
    "from sklearn.model_selection import train_test_split"
   ]
  },
  {
   "cell_type": "code",
   "execution_count": 61,
   "id": "90304576",
   "metadata": {},
   "outputs": [],
   "source": [
    "xtrain ,  xtest ,ytrain,  ytest = train_test_split(x , y , test_size = 0.2)"
   ]
  },
  {
   "cell_type": "code",
   "execution_count": 62,
   "id": "001433dd",
   "metadata": {},
   "outputs": [
    {
     "data": {
      "text/plain": [
       "numpy.ndarray"
      ]
     },
     "execution_count": 62,
     "metadata": {},
     "output_type": "execute_result"
    }
   ],
   "source": [
    "type(xtrain)"
   ]
  },
  {
   "cell_type": "code",
   "execution_count": 63,
   "id": "460f8bf0",
   "metadata": {},
   "outputs": [
    {
     "data": {
      "text/plain": [
       "(321, 256, 256, 3)"
      ]
     },
     "execution_count": 63,
     "metadata": {},
     "output_type": "execute_result"
    }
   ],
   "source": [
    "xtrain.shape"
   ]
  },
  {
   "cell_type": "code",
   "execution_count": 64,
   "id": "fee6b8ae",
   "metadata": {},
   "outputs": [],
   "source": [
    "checkpoint = keras.callbacks.ModelCheckpoint('modelCNN.h5')\n",
    "earlyStop = keras.callbacks.EarlyStopping(patience = 4 , restore_best_weights = True , monitor = 'accuracy')"
   ]
  },
  {
   "cell_type": "code",
   "execution_count": 65,
   "id": "3c8af3d3",
   "metadata": {},
   "outputs": [
    {
     "name": "stdout",
     "output_type": "stream",
     "text": [
      "Epoch 1/10\n",
      "11/11 [==============================] - 95s 8s/step - loss: 0.5577 - accuracy: 0.7352\n",
      "Epoch 2/10\n",
      "11/11 [==============================] - 88s 8s/step - loss: 0.1034 - accuracy: 0.9688\n",
      "Epoch 3/10\n",
      "11/11 [==============================] - 89s 8s/step - loss: 0.0163 - accuracy: 0.9938\n",
      "Epoch 4/10\n",
      "11/11 [==============================] - 89s 8s/step - loss: 0.0039 - accuracy: 1.0000\n",
      "Epoch 5/10\n",
      "11/11 [==============================] - 87s 8s/step - loss: 0.0136 - accuracy: 0.9969\n",
      "Epoch 6/10\n",
      "11/11 [==============================] - 87s 8s/step - loss: 0.0013 - accuracy: 1.0000\n",
      "Epoch 7/10\n",
      "11/11 [==============================] - 87s 8s/step - loss: 8.8936e-05 - accuracy: 1.0000\n",
      "Epoch 8/10\n",
      "11/11 [==============================] - 86s 8s/step - loss: 0.0000e+00 - accuracy: 1.0000\n"
     ]
    }
   ],
   "source": [
    "history = model.fit(xtrain , ytrain , epochs = 10, callbacks = [checkpoint, earlyStop])"
   ]
  },
  {
   "cell_type": "code",
   "execution_count": 66,
   "id": "b83372db",
   "metadata": {},
   "outputs": [
    {
     "data": {
      "text/plain": [
       "<keras.callbacks.History at 0x1d60d26bac0>"
      ]
     },
     "execution_count": 66,
     "metadata": {},
     "output_type": "execute_result"
    }
   ],
   "source": [
    "history"
   ]
  },
  {
   "cell_type": "code",
   "execution_count": 17,
   "id": "383ce3ff",
   "metadata": {},
   "outputs": [
    {
     "name": "stdout",
     "output_type": "stream",
     "text": [
      "1/1 [==============================] - 1s 970ms/step\n"
     ]
    }
   ],
   "source": [
    "preds = model.predict(x)"
   ]
  },
  {
   "cell_type": "code",
   "execution_count": 18,
   "id": "159b63a9",
   "metadata": {},
   "outputs": [
    {
     "data": {
      "text/plain": [
       "numpy.ndarray"
      ]
     },
     "execution_count": 18,
     "metadata": {},
     "output_type": "execute_result"
    }
   ],
   "source": [
    "type(preds)"
   ]
  },
  {
   "cell_type": "code",
   "execution_count": 19,
   "id": "ee6bbe3e",
   "metadata": {},
   "outputs": [],
   "source": [
    "ans = []\n",
    "for pred in preds:\n",
    "    ans.append(np.argmax(pred))"
   ]
  },
  {
   "cell_type": "code",
   "execution_count": 20,
   "id": "3e721f84",
   "metadata": {},
   "outputs": [],
   "source": [
    "from sklearn.metrics import confusion_matrix"
   ]
  },
  {
   "cell_type": "code",
   "execution_count": 22,
   "id": "c3da5a58",
   "metadata": {},
   "outputs": [
    {
     "data": {
      "text/plain": [
       "array([[11]], dtype=int64)"
      ]
     },
     "execution_count": 22,
     "metadata": {},
     "output_type": "execute_result"
    }
   ],
   "source": [
    "confusion_matrix(ans , y)"
   ]
  },
  {
   "cell_type": "code",
   "execution_count": 23,
   "id": "06651d9d",
   "metadata": {},
   "outputs": [
    {
     "data": {
      "text/plain": [
       "[0, 0, 0, 0, 0, 0, 0, 0, 0, 0, 0]"
      ]
     },
     "execution_count": 23,
     "metadata": {},
     "output_type": "execute_result"
    }
   ],
   "source": [
    "list(ans)"
   ]
  },
  {
   "cell_type": "code",
   "execution_count": 73,
   "id": "52de2e63",
   "metadata": {},
   "outputs": [
    {
     "data": {
      "text/plain": [
       "array([[1.00000000e+00, 2.53752519e-10],\n",
       "       [1.00000000e+00, 3.71604325e-09],\n",
       "       [1.00000000e+00, 3.76815662e-11],\n",
       "       [2.84123717e-14, 1.00000000e+00],\n",
       "       [1.00000000e+00, 3.03770169e-11],\n",
       "       [1.00000000e+00, 3.35823799e-11],\n",
       "       [1.00712543e-13, 1.00000000e+00],\n",
       "       [1.35119932e-12, 1.00000000e+00],\n",
       "       [1.00000000e+00, 3.48424567e-10],\n",
       "       [1.00000000e+00, 3.29315325e-10],\n",
       "       [1.47223576e-14, 1.00000000e+00],\n",
       "       [2.46342033e-14, 1.00000000e+00],\n",
       "       [4.69358656e-13, 1.00000000e+00],\n",
       "       [1.00000000e+00, 3.48424567e-10],\n",
       "       [1.87170649e-14, 1.00000000e+00],\n",
       "       [1.00000000e+00, 3.23018313e-11],\n",
       "       [1.00000000e+00, 8.14810353e-09],\n",
       "       [3.70985014e-11, 1.00000000e+00],\n",
       "       [3.42079143e-11, 1.00000000e+00],\n",
       "       [1.00000000e+00, 7.42470796e-09],\n",
       "       [1.00000000e+00, 3.48424567e-10],\n",
       "       [2.33873420e-14, 1.00000000e+00],\n",
       "       [1.09269900e-13, 1.00000000e+00],\n",
       "       [4.11425373e-11, 1.00000000e+00],\n",
       "       [3.24501744e-14, 1.00000000e+00],\n",
       "       [2.37322965e-12, 1.00000000e+00],\n",
       "       [3.62909545e-13, 1.00000000e+00],\n",
       "       [1.00000000e+00, 1.53488078e-09],\n",
       "       [2.47588899e-14, 1.00000000e+00],\n",
       "       [1.09269900e-13, 1.00000000e+00],\n",
       "       [2.47588899e-14, 1.00000000e+00],\n",
       "       [1.00000000e+00, 3.03319730e-11],\n",
       "       [4.11425373e-11, 1.00000000e+00],\n",
       "       [1.00000000e+00, 9.44994660e-09],\n",
       "       [1.00000000e+00, 3.03770169e-11],\n",
       "       [1.00000000e+00, 3.02050780e-11],\n",
       "       [3.67732372e-11, 1.00000000e+00],\n",
       "       [1.38544828e-10, 1.00000000e+00],\n",
       "       [3.86846622e-14, 1.00000000e+00],\n",
       "       [1.00000000e+00, 3.73415049e-11],\n",
       "       [1.10863874e-10, 1.00000000e+00],\n",
       "       [1.00000000e+00, 2.99777564e-10],\n",
       "       [1.10863874e-10, 1.00000000e+00],\n",
       "       [1.00000000e+00, 3.28326082e-11],\n",
       "       [1.00000000e+00, 3.03319730e-11],\n",
       "       [1.00000000e+00, 5.03013720e-09],\n",
       "       [3.62909545e-13, 1.00000000e+00],\n",
       "       [2.96659331e-14, 1.00000000e+00],\n",
       "       [4.69358656e-13, 1.00000000e+00],\n",
       "       [1.70511866e-14, 1.00000000e+00],\n",
       "       [1.00000000e+00, 9.72087832e-09],\n",
       "       [2.07631594e-14, 1.00000000e+00],\n",
       "       [1.00000000e+00, 8.63140323e-11],\n",
       "       [9.32960713e-14, 1.00000000e+00],\n",
       "       [3.81304745e-11, 1.00000000e+00],\n",
       "       [1.00000000e+00, 9.44994660e-09],\n",
       "       [1.00000000e+00, 3.35823799e-11],\n",
       "       [3.96881692e-14, 1.00000000e+00],\n",
       "       [1.00000000e+00, 8.29576230e-09],\n",
       "       [1.00000000e+00, 8.71201067e-09],\n",
       "       [1.00000000e+00, 5.03013720e-09],\n",
       "       [1.00000000e+00, 1.03132018e-08],\n",
       "       [1.00000000e+00, 3.11281473e-10],\n",
       "       [1.00000000e+00, 3.78214023e-11],\n",
       "       [1.09269900e-13, 1.00000000e+00],\n",
       "       [1.00000000e+00, 4.97838526e-09],\n",
       "       [4.57652041e-11, 1.00000000e+00],\n",
       "       [3.83131976e-13, 1.00000000e+00],\n",
       "       [3.11228568e-14, 1.00000000e+00],\n",
       "       [1.38544828e-10, 1.00000000e+00],\n",
       "       [1.00000000e+00, 8.94774654e-09],\n",
       "       [1.00000000e+00, 3.45370225e-11],\n",
       "       [1.00000000e+00, 9.51745349e-09],\n",
       "       [4.57652041e-11, 1.00000000e+00],\n",
       "       [3.96881692e-14, 1.00000000e+00],\n",
       "       [2.20864637e-14, 1.00000000e+00],\n",
       "       [2.71075514e-14, 1.00000000e+00],\n",
       "       [1.00000000e+00, 3.02050780e-11],\n",
       "       [1.00000000e+00, 3.03770169e-11],\n",
       "       [1.59530581e-12, 1.00000000e+00],\n",
       "       [1.10863874e-10, 1.00000000e+00]], dtype=float32)"
      ]
     },
     "execution_count": 73,
     "metadata": {},
     "output_type": "execute_result"
    }
   ],
   "source": [
    "preds"
   ]
  },
  {
   "cell_type": "code",
   "execution_count": null,
   "id": "58dc1768",
   "metadata": {},
   "outputs": [],
   "source": []
  }
 ],
 "metadata": {
  "kernelspec": {
   "display_name": "Python 3 (ipykernel)",
   "language": "python",
   "name": "python3"
  },
  "language_info": {
   "codemirror_mode": {
    "name": "ipython",
    "version": 3
   },
   "file_extension": ".py",
   "mimetype": "text/x-python",
   "name": "python",
   "nbconvert_exporter": "python",
   "pygments_lexer": "ipython3",
   "version": "3.10.1"
  },
  "vscode": {
   "interpreter": {
    "hash": "02134700377d363f62a2b04f8e57ab1225d575f13f9f23050230f9317440af4f"
   }
  }
 },
 "nbformat": 4,
 "nbformat_minor": 5
}
