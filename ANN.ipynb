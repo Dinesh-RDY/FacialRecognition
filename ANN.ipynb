{
 "cells": [
  {
   "cell_type": "code",
   "execution_count": 4,
   "metadata": {},
   "outputs": [],
   "source": [
    "import numpy as np\n",
    "import matplotlib.pyplot as plt\n",
    "import tensorflow as tf"
   ]
  },
  {
   "cell_type": "code",
   "execution_count": 5,
   "metadata": {},
   "outputs": [
    {
     "data": {
      "text/plain": [
       "'2.10.0'"
      ]
     },
     "execution_count": 5,
     "metadata": {},
     "output_type": "execute_result"
    }
   ],
   "source": [
    "tf.__version__"
   ]
  },
  {
   "cell_type": "code",
   "execution_count": 6,
   "metadata": {},
   "outputs": [],
   "source": [
    "import os"
   ]
  },
  {
   "cell_type": "code",
   "execution_count": 7,
   "metadata": {},
   "outputs": [],
   "source": [
    "rootdir = './data/'\n",
    "labels = []\n",
    "\n",
    "for file in os.listdir(rootdir):\n",
    "    labels.append(file)\n",
    "    "
   ]
  },
  {
   "cell_type": "code",
   "execution_count": 8,
   "metadata": {},
   "outputs": [
    {
     "data": {
      "text/plain": [
       "['1', '100519733006', '100519733015', '2']"
      ]
     },
     "execution_count": 8,
     "metadata": {},
     "output_type": "execute_result"
    }
   ],
   "source": [
    "labels"
   ]
  },
  {
   "cell_type": "code",
   "execution_count": 9,
   "metadata": {},
   "outputs": [],
   "source": [
    "x, y = [] , []\n"
   ]
  },
  {
   "cell_type": "code",
   "execution_count": 10,
   "metadata": {},
   "outputs": [],
   "source": [
    "from PIL import Image"
   ]
  },
  {
   "cell_type": "code",
   "execution_count": 11,
   "metadata": {},
   "outputs": [],
   "source": [
    "for index , label in enumerate(labels):\n",
    "    path = rootdir+ label\n",
    "    for file in os.listdir(path):\n",
    "        image = Image.open(os.path.join( path, file) , \"r\")\n",
    "        image = np.asarray(image)\n",
    "        x.append(image / 255)\n",
    "        y.append(index)"
   ]
  },
  {
   "cell_type": "code",
   "execution_count": 12,
   "metadata": {},
   "outputs": [
    {
     "data": {
      "text/plain": [
       "643"
      ]
     },
     "execution_count": 12,
     "metadata": {},
     "output_type": "execute_result"
    }
   ],
   "source": [
    "len(x)"
   ]
  },
  {
   "cell_type": "code",
   "execution_count": 13,
   "metadata": {},
   "outputs": [],
   "source": [
    "x = np.asarray(x)\n",
    "y = np.asarray(y)"
   ]
  },
  {
   "cell_type": "code",
   "execution_count": 14,
   "metadata": {},
   "outputs": [
    {
     "data": {
      "text/plain": [
       "643"
      ]
     },
     "execution_count": 14,
     "metadata": {},
     "output_type": "execute_result"
    }
   ],
   "source": [
    "len(y)"
   ]
  },
  {
   "cell_type": "code",
   "execution_count": 15,
   "metadata": {},
   "outputs": [
    {
     "data": {
      "text/plain": [
       "numpy.ndarray"
      ]
     },
     "execution_count": 15,
     "metadata": {},
     "output_type": "execute_result"
    }
   ],
   "source": [
    "type(x[6])"
   ]
  },
  {
   "cell_type": "code",
   "execution_count": 16,
   "metadata": {},
   "outputs": [
    {
     "data": {
      "text/plain": [
       "array([[0.58039216, 0.58039216, 0.58431373, ..., 0.63921569, 0.63921569,\n",
       "        0.63921569],\n",
       "       [0.57647059, 0.57647059, 0.57647059, ..., 0.63921569, 0.63921569,\n",
       "        0.63921569],\n",
       "       [0.57647059, 0.57647059, 0.57647059, ..., 0.64313725, 0.63921569,\n",
       "        0.63529412],\n",
       "       ...,\n",
       "       [0.37254902, 0.56470588, 0.6745098 , ..., 0.27058824, 0.26666667,\n",
       "        0.2627451 ],\n",
       "       [0.33333333, 0.49411765, 0.61568627, ..., 0.2627451 , 0.25882353,\n",
       "        0.25882353],\n",
       "       [0.32941176, 0.45098039, 0.56078431, ..., 0.25490196, 0.25882353,\n",
       "        0.2627451 ]])"
      ]
     },
     "execution_count": 16,
     "metadata": {},
     "output_type": "execute_result"
    }
   ],
   "source": [
    "x[0]"
   ]
  },
  {
   "cell_type": "code",
   "execution_count": 17,
   "metadata": {},
   "outputs": [],
   "source": [
    "model = tf.keras.models.Sequential([\n",
    "    tf.keras.layers.Flatten(input_shape=[256, 256]),\n",
    "    tf.keras.layers.Dense(200, activation=\"relu\"),\n",
    "    tf.keras.layers.Dense(150, activation=\"relu\"),\n",
    "    tf.keras.layers.Dense(len(labels), activation=\"softmax\")\n",
    "])"
   ]
  },
  {
   "cell_type": "code",
   "execution_count": 18,
   "metadata": {},
   "outputs": [
    {
     "name": "stdout",
     "output_type": "stream",
     "text": [
      "Model: \"sequential\"\n",
      "_________________________________________________________________\n",
      " Layer (type)                Output Shape              Param #   \n",
      "=================================================================\n",
      " flatten (Flatten)           (None, 65536)             0         \n",
      "                                                                 \n",
      " dense (Dense)               (None, 200)               13107400  \n",
      "                                                                 \n",
      " dense_1 (Dense)             (None, 150)               30150     \n",
      "                                                                 \n",
      " dense_2 (Dense)             (None, 4)                 604       \n",
      "                                                                 \n",
      "=================================================================\n",
      "Total params: 13,138,154\n",
      "Trainable params: 13,138,154\n",
      "Non-trainable params: 0\n",
      "_________________________________________________________________\n"
     ]
    }
   ],
   "source": [
    "model.summary()"
   ]
  },
  {
   "cell_type": "code",
   "execution_count": 19,
   "metadata": {},
   "outputs": [
    {
     "data": {
      "text/plain": [
       "[<keras.layers.reshaping.flatten.Flatten at 0x15fd506f100>,\n",
       " <keras.layers.core.dense.Dense at 0x15fd506fd60>,\n",
       " <keras.layers.core.dense.Dense at 0x15fd506f5e0>,\n",
       " <keras.layers.core.dense.Dense at 0x15fd506f940>]"
      ]
     },
     "execution_count": 19,
     "metadata": {},
     "output_type": "execute_result"
    }
   ],
   "source": [
    "model.layers"
   ]
  },
  {
   "cell_type": "code",
   "execution_count": 20,
   "metadata": {},
   "outputs": [],
   "source": [
    "from sklearn.model_selection import train_test_split"
   ]
  },
  {
   "cell_type": "code",
   "execution_count": 21,
   "metadata": {},
   "outputs": [],
   "source": [
    "xtrain , xtest , ytrain , ytest = train_test_split(x , y, test_size = 0.2)"
   ]
  },
  {
   "cell_type": "code",
   "execution_count": 22,
   "metadata": {},
   "outputs": [
    {
     "data": {
      "text/plain": [
       "514"
      ]
     },
     "execution_count": 22,
     "metadata": {},
     "output_type": "execute_result"
    }
   ],
   "source": [
    "len(xtrain)"
   ]
  },
  {
   "cell_type": "code",
   "execution_count": 23,
   "metadata": {},
   "outputs": [],
   "source": [
    "model.compile(loss = \"sparse_categorical_crossentropy\", optimizer = \"adam\" , metrics = [\"accuracy\"])"
   ]
  },
  {
   "cell_type": "code",
   "execution_count": 24,
   "metadata": {},
   "outputs": [],
   "source": [
    "xtrain , xvalid = xtrain[:140], xtrain[140:]\n",
    "ytrain , yvalid = ytrain[:140] , ytrain[140:]"
   ]
  },
  {
   "cell_type": "code",
   "execution_count": 25,
   "metadata": {},
   "outputs": [
    {
     "data": {
      "text/plain": [
       "140"
      ]
     },
     "execution_count": 25,
     "metadata": {},
     "output_type": "execute_result"
    }
   ],
   "source": [
    "len(xtrain)"
   ]
  },
  {
   "cell_type": "code",
   "execution_count": 26,
   "metadata": {},
   "outputs": [],
   "source": [
    "checkpoint_cb = tf.keras.callbacks.ModelCheckpoint('model1ANN.h5' , save_best_only = True)\n",
    "early_stopping_cb = tf.keras.callbacks.EarlyStopping(patience=4,restore_best_weights=True)\n"
   ]
  },
  {
   "cell_type": "code",
   "execution_count": 27,
   "metadata": {},
   "outputs": [],
   "source": [
    "xtrain = np.asarray(xtrain)"
   ]
  },
  {
   "cell_type": "code",
   "execution_count": 28,
   "metadata": {},
   "outputs": [
    {
     "data": {
      "text/plain": [
       "(140, 256, 256)"
      ]
     },
     "execution_count": 28,
     "metadata": {},
     "output_type": "execute_result"
    }
   ],
   "source": [
    "xtrain.shape"
   ]
  },
  {
   "cell_type": "code",
   "execution_count": 29,
   "metadata": {},
   "outputs": [
    {
     "name": "stdout",
     "output_type": "stream",
     "text": [
      "Epoch 1/30\n",
      "5/5 [==============================] - 4s 511ms/step - loss: 11.3344 - accuracy: 0.4000 - val_loss: 4.8615 - val_accuracy: 0.3503\n",
      "Epoch 2/30\n",
      "5/5 [==============================] - 2s 383ms/step - loss: 1.6491 - accuracy: 0.7143 - val_loss: 1.0999 - val_accuracy: 0.8663\n",
      "Epoch 3/30\n",
      "5/5 [==============================] - 1s 350ms/step - loss: 0.5524 - accuracy: 0.9429 - val_loss: 0.3061 - val_accuracy: 0.9572\n",
      "Epoch 4/30\n",
      "5/5 [==============================] - 2s 377ms/step - loss: 0.2574 - accuracy: 0.9786 - val_loss: 0.0818 - val_accuracy: 0.9920\n",
      "Epoch 5/30\n",
      "5/5 [==============================] - 1s 153ms/step - loss: 0.0011 - accuracy: 1.0000 - val_loss: 0.1084 - val_accuracy: 0.9920\n",
      "Epoch 6/30\n",
      "5/5 [==============================] - 1s 161ms/step - loss: 9.0338e-04 - accuracy: 1.0000 - val_loss: 0.1232 - val_accuracy: 0.9840\n",
      "Epoch 7/30\n",
      "5/5 [==============================] - 1s 166ms/step - loss: 0.0033 - accuracy: 1.0000 - val_loss: 0.0893 - val_accuracy: 0.9893\n",
      "Epoch 8/30\n",
      "5/5 [==============================] - 1s 282ms/step - loss: 3.0369e-04 - accuracy: 1.0000 - val_loss: 0.0413 - val_accuracy: 0.9973\n",
      "Epoch 9/30\n",
      "5/5 [==============================] - 1s 288ms/step - loss: 9.3966e-05 - accuracy: 1.0000 - val_loss: 0.0384 - val_accuracy: 0.9947\n",
      "Epoch 10/30\n",
      "5/5 [==============================] - 1s 152ms/step - loss: 6.9169e-05 - accuracy: 1.0000 - val_loss: 0.0545 - val_accuracy: 0.9947\n",
      "Epoch 11/30\n",
      "5/5 [==============================] - 1s 150ms/step - loss: 1.7743e-04 - accuracy: 1.0000 - val_loss: 0.0627 - val_accuracy: 0.9947\n",
      "Epoch 12/30\n",
      "5/5 [==============================] - 1s 146ms/step - loss: 1.8766e-04 - accuracy: 1.0000 - val_loss: 0.0675 - val_accuracy: 0.9947\n",
      "Epoch 13/30\n",
      "5/5 [==============================] - 1s 161ms/step - loss: 1.2010e-04 - accuracy: 1.0000 - val_loss: 0.0662 - val_accuracy: 0.9947\n"
     ]
    }
   ],
   "source": [
    "history = model.fit(xtrain ,ytrain , epochs = 30,validation_data = (xvalid, yvalid) ,\n",
    "                    callbacks = [checkpoint_cb , early_stopping_cb])"
   ]
  },
  {
   "cell_type": "code",
   "execution_count": 30,
   "metadata": {},
   "outputs": [
    {
     "name": "stdout",
     "output_type": "stream",
     "text": [
      "5/5 [==============================] - 0s 20ms/step\n"
     ]
    }
   ],
   "source": [
    "preds = model.predict(xtest)"
   ]
  },
  {
   "cell_type": "code",
   "execution_count": 31,
   "metadata": {},
   "outputs": [
    {
     "data": {
      "text/plain": [
       "array([[1.00000000e+00, 9.79039939e-12, 3.26639721e-33, 1.00117661e-13],\n",
       "       [5.84508371e-06, 3.30987918e-17, 9.99994159e-01, 7.69817023e-12],\n",
       "       [1.89117000e-01, 2.76124826e-13, 7.55409637e-05, 8.10807407e-01],\n",
       "       [2.88596441e-32, 1.00000000e+00, 8.40113116e-19, 8.70770706e-28],\n",
       "       [3.12212999e-15, 5.70442924e-27, 1.00000000e+00, 2.94660329e-17],\n",
       "       [3.39288097e-23, 1.00000000e+00, 0.00000000e+00, 2.14773087e-30],\n",
       "       [1.00000000e+00, 5.67878817e-12, 4.99284212e-38, 5.24968871e-15],\n",
       "       [1.00000000e+00, 1.23442090e-11, 2.98617824e-37, 8.11720567e-16],\n",
       "       [1.00000000e+00, 7.12530035e-11, 0.00000000e+00, 1.86563941e-15],\n",
       "       [1.23680317e-19, 1.00000000e+00, 0.00000000e+00, 3.66212806e-26],\n",
       "       [5.63828455e-15, 7.69769380e-14, 1.00000000e+00, 3.16423917e-15],\n",
       "       [7.60150520e-09, 1.00000000e+00, 6.12902577e-19, 2.30859571e-15],\n",
       "       [1.00000000e+00, 4.30001998e-12, 1.96070085e-37, 1.58057153e-15],\n",
       "       [7.10150702e-17, 9.25068509e-29, 1.00000000e+00, 1.29931773e-18],\n",
       "       [1.00000000e+00, 3.29223648e-10, 1.74446630e-25, 3.81570261e-11],\n",
       "       [1.00703705e-28, 1.00000000e+00, 0.00000000e+00, 4.49421153e-34],\n",
       "       [1.20138921e-09, 1.00000000e+00, 1.08481249e-27, 8.53903906e-17],\n",
       "       [3.23822864e-14, 1.00000000e+00, 1.60373098e-36, 1.12245834e-21],\n",
       "       [1.32907957e-01, 2.39367932e-15, 9.77063051e-19, 8.67092013e-01],\n",
       "       [5.48771294e-36, 1.00000000e+00, 1.69919642e-22, 2.08250085e-31],\n",
       "       [2.03885235e-15, 1.00000000e+00, 1.58524726e-35, 3.57938852e-23],\n",
       "       [2.63839593e-11, 5.11269738e-19, 1.00000000e+00, 7.07703307e-17],\n",
       "       [1.46127912e-12, 9.53175393e-27, 1.00000000e+00, 1.96025613e-18],\n",
       "       [1.00000000e+00, 4.91510112e-14, 2.32872440e-32, 3.55886842e-13],\n",
       "       [1.00000000e+00, 1.02451059e-09, 0.00000000e+00, 1.34275496e-15],\n",
       "       [8.07079609e-13, 7.26553269e-25, 1.00000000e+00, 1.44212187e-15],\n",
       "       [4.41469759e-08, 1.00000000e+00, 6.35825083e-17, 3.96812066e-14],\n",
       "       [3.42807005e-17, 3.96917611e-31, 1.00000000e+00, 3.05446248e-23],\n",
       "       [2.77680429e-16, 1.00000000e+00, 0.00000000e+00, 1.00515142e-23],\n",
       "       [1.00000000e+00, 9.13475784e-13, 3.28345477e-30, 4.15284612e-11],\n",
       "       [8.03193019e-04, 9.29143559e-15, 9.99196827e-01, 5.85216675e-09],\n",
       "       [1.00000000e+00, 2.75140392e-12, 1.57343010e-31, 1.86275231e-11],\n",
       "       [1.00000000e+00, 1.08702240e-12, 8.21170496e-37, 6.10868430e-15],\n",
       "       [8.71726336e-09, 4.19634206e-12, 4.46039464e-19, 1.00000000e+00],\n",
       "       [4.79669323e-33, 1.00000000e+00, 4.09644428e-35, 2.90054278e-33],\n",
       "       [9.35334188e-04, 6.60830669e-15, 2.96304566e-17, 9.99064744e-01],\n",
       "       [8.75477168e-20, 1.00000000e+00, 1.42437738e-34, 2.30636459e-26],\n",
       "       [1.00000000e+00, 2.44722187e-10, 6.29716233e-38, 2.94242649e-16],\n",
       "       [1.00000000e+00, 2.57597394e-12, 3.17822599e-36, 4.05757369e-15],\n",
       "       [9.23274701e-09, 1.00000000e+00, 4.78360720e-19, 1.37466565e-15],\n",
       "       [2.18671801e-23, 1.00000000e+00, 0.00000000e+00, 2.77970974e-30],\n",
       "       [1.00000000e+00, 1.54810531e-13, 5.50145556e-31, 1.52746630e-12],\n",
       "       [2.96257352e-10, 1.32368018e-20, 1.00000000e+00, 3.24551092e-15],\n",
       "       [2.77680429e-16, 1.00000000e+00, 0.00000000e+00, 1.00515142e-23],\n",
       "       [1.33911224e-16, 1.40190294e-28, 1.00000000e+00, 1.51905748e-24],\n",
       "       [1.00000000e+00, 3.06016519e-12, 3.78565229e-31, 4.34341061e-12],\n",
       "       [6.82489665e-09, 1.00000000e+00, 2.12075471e-26, 4.15588616e-16],\n",
       "       [1.00000000e+00, 1.92338414e-13, 2.26590862e-34, 1.49034959e-13],\n",
       "       [4.79669323e-33, 1.00000000e+00, 4.09644428e-35, 2.90054278e-33],\n",
       "       [1.00000000e+00, 4.58986668e-12, 1.27829787e-37, 8.91592894e-15],\n",
       "       [2.66308446e-14, 1.46810315e-17, 1.00000000e+00, 1.15359720e-19],\n",
       "       [3.86377970e-16, 1.00000000e+00, 0.00000000e+00, 9.54111803e-24],\n",
       "       [1.00000000e+00, 1.22214890e-12, 2.26307290e-36, 5.45648079e-15],\n",
       "       [2.68635603e-08, 4.63982082e-11, 8.11634948e-21, 1.00000000e+00],\n",
       "       [3.42807005e-17, 3.96917611e-31, 1.00000000e+00, 3.05446248e-23],\n",
       "       [1.00000000e+00, 2.57597394e-12, 3.17822599e-36, 4.05757369e-15],\n",
       "       [3.92432293e-25, 1.00000000e+00, 0.00000000e+00, 2.71841792e-29],\n",
       "       [1.00000000e+00, 9.35716869e-12, 4.43937043e-38, 3.84823373e-15],\n",
       "       [5.63951967e-12, 5.88781293e-22, 1.00000000e+00, 5.46680648e-18],\n",
       "       [9.92063758e-14, 9.49904998e-12, 1.00000000e+00, 8.96661370e-15],\n",
       "       [2.10072557e-15, 4.15698690e-28, 1.00000000e+00, 5.43215993e-23],\n",
       "       [1.55758739e-15, 1.47096578e-27, 1.00000000e+00, 4.33538792e-17],\n",
       "       [2.41399628e-36, 1.00000000e+00, 1.50984599e-20, 2.84846191e-31],\n",
       "       [2.36854950e-23, 1.00000000e+00, 0.00000000e+00, 4.45494740e-29],\n",
       "       [6.25986485e-10, 1.00935593e-21, 1.00000000e+00, 2.48919927e-14],\n",
       "       [2.86336523e-16, 1.00000000e+00, 0.00000000e+00, 8.33884826e-24],\n",
       "       [1.00000000e+00, 5.71181123e-12, 8.88805187e-37, 2.09849914e-15],\n",
       "       [7.60150520e-09, 1.00000000e+00, 6.12902577e-19, 2.30859571e-15],\n",
       "       [8.01608502e-10, 2.82693196e-23, 1.00000000e+00, 3.66304057e-16],\n",
       "       [1.00000000e+00, 5.59540275e-14, 1.59695948e-30, 2.90930062e-12],\n",
       "       [1.97708753e-16, 1.00000000e+00, 0.00000000e+00, 4.85546135e-24],\n",
       "       [2.17690278e-04, 2.93263305e-15, 9.99782264e-01, 1.61347247e-09],\n",
       "       [2.68635603e-08, 4.63982082e-11, 8.11634948e-21, 1.00000000e+00],\n",
       "       [1.80194459e-09, 1.72085324e-22, 1.00000000e+00, 3.56347650e-15],\n",
       "       [1.00000000e+00, 1.33784287e-13, 8.10334142e-32, 7.64717022e-12],\n",
       "       [1.55482542e-17, 4.22704067e-29, 1.00000000e+00, 2.30364996e-24],\n",
       "       [1.54512556e-04, 2.55006892e-16, 9.99845505e-01, 2.15901894e-10],\n",
       "       [7.70331384e-19, 1.00000000e+00, 0.00000000e+00, 8.52187870e-27],\n",
       "       [1.00586507e-15, 1.00000000e+00, 5.65085825e-38, 6.81381889e-23],\n",
       "       [2.80621152e-34, 1.00000000e+00, 3.91343091e-22, 4.01141829e-30],\n",
       "       [1.00000000e+00, 1.06704522e-12, 9.56606024e-36, 8.84273259e-15],\n",
       "       [1.46127912e-12, 9.53175393e-27, 1.00000000e+00, 1.96025613e-18],\n",
       "       [2.18266905e-05, 9.79735613e-01, 2.02425122e-02, 2.39065767e-10],\n",
       "       [1.00000000e+00, 1.30384993e-12, 3.19701460e-35, 6.16204653e-15],\n",
       "       [1.37326071e-08, 5.93196097e-20, 1.00000000e+00, 5.68363932e-13],\n",
       "       [7.08049293e-16, 6.86485753e-21, 1.00000000e+00, 8.01315820e-23],\n",
       "       [8.04822434e-07, 1.66673347e-18, 9.99999166e-01, 2.63742131e-12],\n",
       "       [8.04822434e-07, 1.66673347e-18, 9.99999166e-01, 2.63742131e-12],\n",
       "       [3.26170557e-09, 3.13535916e-12, 3.16078409e-18, 1.00000000e+00],\n",
       "       [2.76355078e-10, 1.00000000e+00, 3.92715936e-22, 5.23590108e-18],\n",
       "       [1.00000000e+00, 7.12530035e-11, 0.00000000e+00, 1.86563941e-15],\n",
       "       [1.00000000e+00, 1.25705219e-11, 3.30827420e-37, 1.83355189e-14],\n",
       "       [3.01688961e-35, 1.00000000e+00, 2.92936789e-31, 6.98404761e-33],\n",
       "       [1.00000000e+00, 2.81844643e-12, 3.05367924e-32, 2.99546737e-13],\n",
       "       [2.19595436e-16, 2.89821642e-28, 1.00000000e+00, 5.27022463e-19],\n",
       "       [1.23680317e-19, 1.00000000e+00, 0.00000000e+00, 3.66212806e-26],\n",
       "       [1.00000000e+00, 2.99985449e-12, 5.26848669e-30, 4.38991616e-13],\n",
       "       [1.00000000e+00, 2.75140392e-12, 1.57343010e-31, 1.86275231e-11],\n",
       "       [2.25524259e-18, 1.00000000e+00, 0.00000000e+00, 2.14920347e-25],\n",
       "       [1.44666383e-05, 2.54264494e-16, 9.99985576e-01, 4.94601804e-10],\n",
       "       [8.03193019e-04, 9.29143559e-15, 9.99196827e-01, 5.85216675e-09],\n",
       "       [9.15744130e-12, 1.00000000e+00, 6.69151795e-30, 8.27000029e-19],\n",
       "       [1.00000000e+00, 4.97887391e-11, 3.75964471e-32, 7.36663280e-13],\n",
       "       [9.99999642e-01, 4.12694959e-07, 1.19151637e-17, 2.65480349e-09],\n",
       "       [2.01895011e-11, 1.71807624e-04, 9.99828219e-01, 1.28865950e-12],\n",
       "       [1.00000000e+00, 1.02451059e-09, 0.00000000e+00, 1.34275496e-15],\n",
       "       [1.81526777e-12, 1.00000000e+00, 3.19022004e-33, 5.52841235e-21],\n",
       "       [4.11243866e-16, 2.19165516e-29, 1.00000000e+00, 1.59368210e-19],\n",
       "       [1.02847378e-23, 1.00000000e+00, 0.00000000e+00, 3.56067734e-30],\n",
       "       [1.23883232e-36, 1.00000000e+00, 6.59851027e-24, 6.57533777e-33],\n",
       "       [1.00000000e+00, 1.23442090e-11, 2.98617824e-37, 8.11720567e-16],\n",
       "       [9.82357484e-09, 3.55070981e-04, 9.99644876e-01, 2.04706599e-11],\n",
       "       [8.04822434e-07, 1.66673347e-18, 9.99999166e-01, 2.63742131e-12],\n",
       "       [4.34835556e-10, 2.58930708e-13, 1.44286884e-17, 1.00000000e+00],\n",
       "       [1.00000000e+00, 9.13475784e-13, 3.28345477e-30, 4.15284612e-11],\n",
       "       [3.54143696e-14, 1.00000000e+00, 6.48051211e-33, 3.08493309e-22],\n",
       "       [4.55564132e-20, 1.00000000e+00, 0.00000000e+00, 6.41101730e-28],\n",
       "       [1.18140520e-18, 4.68951669e-31, 1.00000000e+00, 5.28788749e-26],\n",
       "       [8.07079609e-13, 7.26553269e-25, 1.00000000e+00, 1.44212187e-15],\n",
       "       [1.00000000e+00, 1.14179638e-11, 1.97961427e-25, 2.34316169e-12],\n",
       "       [1.24979805e-27, 1.00000000e+00, 0.00000000e+00, 1.25878951e-33],\n",
       "       [1.00000000e+00, 1.48962300e-08, 5.35923391e-31, 1.21360062e-12],\n",
       "       [1.53828927e-09, 3.76769177e-21, 1.00000000e+00, 3.71362453e-14],\n",
       "       [1.00000000e+00, 2.52600404e-13, 6.19687102e-35, 6.26114151e-14],\n",
       "       [1.00000000e+00, 3.55794550e-13, 5.04005830e-35, 6.54663091e-14],\n",
       "       [2.60052234e-13, 1.00000000e+00, 2.02973558e-36, 4.64513653e-21],\n",
       "       [1.11730176e-14, 1.00000000e+00, 1.35500446e-33, 1.17411614e-21],\n",
       "       [1.22487862e-13, 1.00000000e+00, 6.87807172e-35, 9.20903044e-22],\n",
       "       [1.00701400e-28, 1.00000000e+00, 0.00000000e+00, 4.49455454e-34]],\n",
       "      dtype=float32)"
      ]
     },
     "execution_count": 31,
     "metadata": {},
     "output_type": "execute_result"
    }
   ],
   "source": [
    "preds"
   ]
  },
  {
   "cell_type": "code",
   "execution_count": 32,
   "metadata": {},
   "outputs": [],
   "source": [
    "x = []\n",
    "for pred in preds:\n",
    "    x.append(np.argmax(pred))"
   ]
  },
  {
   "cell_type": "code",
   "execution_count": 33,
   "metadata": {},
   "outputs": [
    {
     "data": {
      "text/plain": [
       "array([0, 2, 3, 1, 2, 1, 0, 0, 0, 1, 2, 1, 0, 2, 0, 1, 1, 1, 3, 1, 1, 2,\n",
       "       2, 0, 0, 2, 1, 2, 1, 0, 2, 0, 0, 3, 1, 3, 1, 0, 0, 1, 1, 0, 2, 1,\n",
       "       2, 0, 1, 0, 1, 0, 2, 1, 0, 3, 2, 0, 1, 0, 2, 2, 2, 2, 1, 1, 2, 1,\n",
       "       0, 1, 2, 0, 1, 2, 3, 2, 0, 2, 2, 1, 1, 1, 0, 2, 0, 0, 2, 2, 2, 2,\n",
       "       3, 1, 0, 0, 1, 0, 2, 1, 0, 0, 1, 2, 2, 1, 0, 0, 2, 0, 1, 2, 1, 1,\n",
       "       0, 2, 2, 3, 0, 1, 1, 2, 2, 0, 1, 0, 2, 0, 0, 1, 1, 1, 1])"
      ]
     },
     "execution_count": 33,
     "metadata": {},
     "output_type": "execute_result"
    }
   ],
   "source": [
    "ytest"
   ]
  },
  {
   "cell_type": "code",
   "execution_count": 34,
   "metadata": {},
   "outputs": [],
   "source": [
    "from sklearn.metrics import confusion_matrix"
   ]
  },
  {
   "cell_type": "code",
   "execution_count": 35,
   "metadata": {},
   "outputs": [
    {
     "data": {
      "text/plain": [
       "array([[39,  1,  0,  0],\n",
       "       [ 0, 43,  0,  0],\n",
       "       [ 0,  0, 38,  0],\n",
       "       [ 0,  0,  0,  8]], dtype=int64)"
      ]
     },
     "execution_count": 35,
     "metadata": {},
     "output_type": "execute_result"
    }
   ],
   "source": [
    "confusion_matrix(ytest, x)"
   ]
  },
  {
   "cell_type": "code",
   "execution_count": null,
   "metadata": {},
   "outputs": [],
   "source": []
  },
  {
   "cell_type": "code",
   "execution_count": null,
   "metadata": {},
   "outputs": [],
   "source": []
  },
  {
   "cell_type": "code",
   "execution_count": null,
   "metadata": {},
   "outputs": [],
   "source": []
  },
  {
   "cell_type": "code",
   "execution_count": null,
   "metadata": {},
   "outputs": [],
   "source": []
  },
  {
   "cell_type": "code",
   "execution_count": null,
   "metadata": {},
   "outputs": [],
   "source": []
  },
  {
   "cell_type": "code",
   "execution_count": null,
   "metadata": {},
   "outputs": [],
   "source": []
  }
 ],
 "metadata": {
  "kernelspec": {
   "display_name": "Python 3 (ipykernel)",
   "language": "python",
   "name": "python3"
  },
  "language_info": {
   "codemirror_mode": {
    "name": "ipython",
    "version": 3
   },
   "file_extension": ".py",
   "mimetype": "text/x-python",
   "name": "python",
   "nbconvert_exporter": "python",
   "pygments_lexer": "ipython3",
   "version": "3.10.1"
  },
  "vscode": {
   "interpreter": {
    "hash": "625782bb4a5ed1925d970560710afcd312a01e169866bd75e8adcc34d822bdd0"
   }
  }
 },
 "nbformat": 4,
 "nbformat_minor": 2
}
