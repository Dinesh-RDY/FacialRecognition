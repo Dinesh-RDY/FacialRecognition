{
 "cells": [
  {
   "cell_type": "code",
   "execution_count": 1,
   "metadata": {},
   "outputs": [],
   "source": [
    "import numpy as np\n",
    "import matplotlib.pyplot as plt\n",
    "import tensorflow as tf"
   ]
  },
  {
   "cell_type": "code",
   "execution_count": 2,
   "metadata": {},
   "outputs": [
    {
     "data": {
      "text/plain": [
       "'2.10.0'"
      ]
     },
     "execution_count": 2,
     "metadata": {},
     "output_type": "execute_result"
    }
   ],
   "source": [
    "tf.__version__"
   ]
  },
  {
   "cell_type": "code",
   "execution_count": 3,
   "metadata": {},
   "outputs": [],
   "source": [
    "import os"
   ]
  },
  {
   "cell_type": "code",
   "execution_count": 4,
   "metadata": {},
   "outputs": [],
   "source": [
    "rootdir = './data/'\n",
    "labels = []\n",
    "\n",
    "for file in os.listdir(rootdir):\n",
    "    labels.append(file)\n",
    "    "
   ]
  },
  {
   "cell_type": "code",
   "execution_count": 5,
   "metadata": {},
   "outputs": [
    {
     "data": {
      "text/plain": [
       "['1', '100519733006', '100519733015']"
      ]
     },
     "execution_count": 5,
     "metadata": {},
     "output_type": "execute_result"
    }
   ],
   "source": [
    "labels"
   ]
  },
  {
   "cell_type": "code",
   "execution_count": 6,
   "metadata": {},
   "outputs": [],
   "source": [
    "x, y = [] , []\n"
   ]
  },
  {
   "cell_type": "code",
   "execution_count": 7,
   "metadata": {},
   "outputs": [],
   "source": [
    "from PIL import Image"
   ]
  },
  {
   "cell_type": "code",
   "execution_count": 8,
   "metadata": {},
   "outputs": [],
   "source": [
    "for index , label in enumerate(labels):\n",
    "    path = rootdir+ label\n",
    "    for file in os.listdir(path):\n",
    "        image = Image.open(os.path.join( path, file) , \"r\")\n",
    "        image = np.asarray(image)\n",
    "        x.append(image / 255)\n",
    "        y.append(index)"
   ]
  },
  {
   "cell_type": "code",
   "execution_count": 9,
   "metadata": {},
   "outputs": [
    {
     "data": {
      "text/plain": [
       "603"
      ]
     },
     "execution_count": 9,
     "metadata": {},
     "output_type": "execute_result"
    }
   ],
   "source": [
    "len(x)"
   ]
  },
  {
   "cell_type": "code",
   "execution_count": 10,
   "metadata": {},
   "outputs": [],
   "source": [
    "x = np.asarray(x)\n",
    "y = np.asarray(y)"
   ]
  },
  {
   "cell_type": "code",
   "execution_count": 11,
   "metadata": {},
   "outputs": [
    {
     "data": {
      "text/plain": [
       "603"
      ]
     },
     "execution_count": 11,
     "metadata": {},
     "output_type": "execute_result"
    }
   ],
   "source": [
    "len(y)"
   ]
  },
  {
   "cell_type": "code",
   "execution_count": 12,
   "metadata": {},
   "outputs": [
    {
     "data": {
      "text/plain": [
       "numpy.ndarray"
      ]
     },
     "execution_count": 12,
     "metadata": {},
     "output_type": "execute_result"
    }
   ],
   "source": [
    "type(x[6])"
   ]
  },
  {
   "cell_type": "code",
   "execution_count": 13,
   "metadata": {},
   "outputs": [
    {
     "data": {
      "text/plain": [
       "array([[0.58039216, 0.58039216, 0.58431373, ..., 0.63921569, 0.63921569,\n",
       "        0.63921569],\n",
       "       [0.57647059, 0.57647059, 0.57647059, ..., 0.63921569, 0.63921569,\n",
       "        0.63921569],\n",
       "       [0.57647059, 0.57647059, 0.57647059, ..., 0.64313725, 0.63921569,\n",
       "        0.63529412],\n",
       "       ...,\n",
       "       [0.37254902, 0.56470588, 0.6745098 , ..., 0.27058824, 0.26666667,\n",
       "        0.2627451 ],\n",
       "       [0.33333333, 0.49411765, 0.61568627, ..., 0.2627451 , 0.25882353,\n",
       "        0.25882353],\n",
       "       [0.32941176, 0.45098039, 0.56078431, ..., 0.25490196, 0.25882353,\n",
       "        0.2627451 ]])"
      ]
     },
     "execution_count": 13,
     "metadata": {},
     "output_type": "execute_result"
    }
   ],
   "source": [
    "x[0]"
   ]
  },
  {
   "cell_type": "code",
   "execution_count": 14,
   "metadata": {},
   "outputs": [],
   "source": [
    "model = tf.keras.models.Sequential([\n",
    "    tf.keras.layers.Flatten(input_shape=[256, 256]),\n",
    "    tf.keras.layers.Dense(200, activation=\"relu\"),\n",
    "    tf.keras.layers.Dense(150, activation=\"relu\"),\n",
    "    tf.keras.layers.Dense(len(labels), activation=\"softmax\")\n",
    "])"
   ]
  },
  {
   "cell_type": "code",
   "execution_count": 15,
   "metadata": {},
   "outputs": [
    {
     "name": "stdout",
     "output_type": "stream",
     "text": [
      "Model: \"sequential\"\n",
      "_________________________________________________________________\n",
      " Layer (type)                Output Shape              Param #   \n",
      "=================================================================\n",
      " flatten (Flatten)           (None, 65536)             0         \n",
      "                                                                 \n",
      " dense (Dense)               (None, 200)               13107400  \n",
      "                                                                 \n",
      " dense_1 (Dense)             (None, 150)               30150     \n",
      "                                                                 \n",
      " dense_2 (Dense)             (None, 3)                 453       \n",
      "                                                                 \n",
      "=================================================================\n",
      "Total params: 13,138,003\n",
      "Trainable params: 13,138,003\n",
      "Non-trainable params: 0\n",
      "_________________________________________________________________\n"
     ]
    }
   ],
   "source": [
    "model.summary()"
   ]
  },
  {
   "cell_type": "code",
   "execution_count": 16,
   "metadata": {},
   "outputs": [
    {
     "data": {
      "text/plain": [
       "[<keras.layers.reshaping.flatten.Flatten at 0x140e650f070>,\n",
       " <keras.layers.core.dense.Dense at 0x140e650ea70>,\n",
       " <keras.layers.core.dense.Dense at 0x140e6571f00>,\n",
       " <keras.layers.core.dense.Dense at 0x140e6572590>]"
      ]
     },
     "execution_count": 16,
     "metadata": {},
     "output_type": "execute_result"
    }
   ],
   "source": [
    "model.layers"
   ]
  },
  {
   "cell_type": "code",
   "execution_count": 17,
   "metadata": {},
   "outputs": [],
   "source": [
    "from sklearn.model_selection import train_test_split"
   ]
  },
  {
   "cell_type": "code",
   "execution_count": 18,
   "metadata": {},
   "outputs": [],
   "source": [
    "xtrain , xtest , ytrain , ytest = train_test_split(x , y, test_size = 0.2)"
   ]
  },
  {
   "cell_type": "code",
   "execution_count": 19,
   "metadata": {},
   "outputs": [
    {
     "data": {
      "text/plain": [
       "482"
      ]
     },
     "execution_count": 19,
     "metadata": {},
     "output_type": "execute_result"
    }
   ],
   "source": [
    "len(xtrain)"
   ]
  },
  {
   "cell_type": "code",
   "execution_count": 20,
   "metadata": {},
   "outputs": [],
   "source": [
    "model.compile(loss = \"sparse_categorical_crossentropy\", optimizer = \"adam\" , metrics = [\"accuracy\"])"
   ]
  },
  {
   "cell_type": "code",
   "execution_count": 21,
   "metadata": {},
   "outputs": [],
   "source": [
    "xtrain , xvalid = xtrain[:140], xtrain[140:]\n",
    "ytrain , yvalid = ytrain[:140] , ytrain[140:]"
   ]
  },
  {
   "cell_type": "code",
   "execution_count": 22,
   "metadata": {},
   "outputs": [
    {
     "data": {
      "text/plain": [
       "140"
      ]
     },
     "execution_count": 22,
     "metadata": {},
     "output_type": "execute_result"
    }
   ],
   "source": [
    "len(xtrain)"
   ]
  },
  {
   "cell_type": "code",
   "execution_count": 27,
   "metadata": {},
   "outputs": [],
   "source": [
    "checkpoint_cb = tf.keras.callbacks.ModelCheckpoint('model1ANN.h5' , save_best_only = True)\n",
    "early_stopping_cb = tf.keras.callbacks.EarlyStopping(patience=4,restore_best_weights=True)\n"
   ]
  },
  {
   "cell_type": "code",
   "execution_count": 28,
   "metadata": {},
   "outputs": [],
   "source": [
    "xtrain = np.asarray(xtrain)"
   ]
  },
  {
   "cell_type": "code",
   "execution_count": 29,
   "metadata": {},
   "outputs": [
    {
     "data": {
      "text/plain": [
       "(140, 256, 256)"
      ]
     },
     "execution_count": 29,
     "metadata": {},
     "output_type": "execute_result"
    }
   ],
   "source": [
    "xtrain.shape"
   ]
  },
  {
   "cell_type": "code",
   "execution_count": 30,
   "metadata": {},
   "outputs": [
    {
     "name": "stdout",
     "output_type": "stream",
     "text": [
      "Epoch 1/30\n",
      "5/5 [==============================] - 1s 340ms/step - loss: 6.1477e-07 - accuracy: 1.0000 - val_loss: 5.7386e-06 - val_accuracy: 1.0000\n",
      "Epoch 2/30\n",
      "5/5 [==============================] - 2s 324ms/step - loss: 6.0966e-07 - accuracy: 1.0000 - val_loss: 5.6905e-06 - val_accuracy: 1.0000\n",
      "Epoch 3/30\n",
      "5/5 [==============================] - 1s 273ms/step - loss: 6.0626e-07 - accuracy: 1.0000 - val_loss: 5.6428e-06 - val_accuracy: 1.0000\n",
      "Epoch 4/30\n",
      "5/5 [==============================] - 1s 273ms/step - loss: 6.0115e-07 - accuracy: 1.0000 - val_loss: 5.5971e-06 - val_accuracy: 1.0000\n",
      "Epoch 5/30\n",
      "5/5 [==============================] - 1s 295ms/step - loss: 5.9604e-07 - accuracy: 1.0000 - val_loss: 5.5515e-06 - val_accuracy: 1.0000\n",
      "Epoch 6/30\n",
      "5/5 [==============================] - 1s 283ms/step - loss: 5.9263e-07 - accuracy: 1.0000 - val_loss: 5.5034e-06 - val_accuracy: 1.0000\n",
      "Epoch 7/30\n",
      "5/5 [==============================] - 1s 290ms/step - loss: 5.8838e-07 - accuracy: 1.0000 - val_loss: 5.4560e-06 - val_accuracy: 1.0000\n",
      "Epoch 8/30\n",
      "5/5 [==============================] - 1s 285ms/step - loss: 5.8412e-07 - accuracy: 1.0000 - val_loss: 5.4075e-06 - val_accuracy: 1.0000\n",
      "Epoch 9/30\n",
      "5/5 [==============================] - 1s 270ms/step - loss: 5.7901e-07 - accuracy: 1.0000 - val_loss: 5.3640e-06 - val_accuracy: 1.0000\n",
      "Epoch 10/30\n",
      "5/5 [==============================] - 1s 306ms/step - loss: 5.7560e-07 - accuracy: 1.0000 - val_loss: 5.3218e-06 - val_accuracy: 1.0000\n",
      "Epoch 11/30\n",
      "5/5 [==============================] - 1s 259ms/step - loss: 5.7220e-07 - accuracy: 1.0000 - val_loss: 5.2748e-06 - val_accuracy: 1.0000\n",
      "Epoch 12/30\n",
      "5/5 [==============================] - 1s 291ms/step - loss: 5.6624e-07 - accuracy: 1.0000 - val_loss: 5.2337e-06 - val_accuracy: 1.0000\n",
      "Epoch 13/30\n",
      "5/5 [==============================] - 1s 269ms/step - loss: 5.6198e-07 - accuracy: 1.0000 - val_loss: 5.1817e-06 - val_accuracy: 1.0000\n",
      "Epoch 14/30\n",
      "5/5 [==============================] - 1s 277ms/step - loss: 5.5687e-07 - accuracy: 1.0000 - val_loss: 5.1333e-06 - val_accuracy: 1.0000\n",
      "Epoch 15/30\n",
      "5/5 [==============================] - 1s 293ms/step - loss: 5.5432e-07 - accuracy: 1.0000 - val_loss: 5.0737e-06 - val_accuracy: 1.0000\n",
      "Epoch 16/30\n",
      "5/5 [==============================] - 1s 272ms/step - loss: 5.4750e-07 - accuracy: 1.0000 - val_loss: 5.0211e-06 - val_accuracy: 1.0000\n",
      "Epoch 17/30\n",
      "5/5 [==============================] - 1s 284ms/step - loss: 5.4410e-07 - accuracy: 1.0000 - val_loss: 4.9695e-06 - val_accuracy: 1.0000\n",
      "Epoch 18/30\n",
      "5/5 [==============================] - 1s 279ms/step - loss: 5.3984e-07 - accuracy: 1.0000 - val_loss: 4.9117e-06 - val_accuracy: 1.0000\n",
      "Epoch 19/30\n",
      "5/5 [==============================] - 1s 267ms/step - loss: 5.3473e-07 - accuracy: 1.0000 - val_loss: 4.8535e-06 - val_accuracy: 1.0000\n",
      "Epoch 20/30\n",
      "5/5 [==============================] - 1s 281ms/step - loss: 5.2877e-07 - accuracy: 1.0000 - val_loss: 4.8005e-06 - val_accuracy: 1.0000\n",
      "Epoch 21/30\n",
      "5/5 [==============================] - 1s 270ms/step - loss: 5.2451e-07 - accuracy: 1.0000 - val_loss: 4.7538e-06 - val_accuracy: 1.0000\n",
      "Epoch 22/30\n",
      "5/5 [==============================] - 1s 269ms/step - loss: 5.1941e-07 - accuracy: 1.0000 - val_loss: 4.7110e-06 - val_accuracy: 1.0000\n",
      "Epoch 23/30\n",
      "5/5 [==============================] - 1s 269ms/step - loss: 5.1685e-07 - accuracy: 1.0000 - val_loss: 4.6667e-06 - val_accuracy: 1.0000\n",
      "Epoch 24/30\n",
      "5/5 [==============================] - 1s 271ms/step - loss: 5.1174e-07 - accuracy: 1.0000 - val_loss: 4.6280e-06 - val_accuracy: 1.0000\n",
      "Epoch 25/30\n",
      "5/5 [==============================] - 1s 278ms/step - loss: 5.0749e-07 - accuracy: 1.0000 - val_loss: 4.5925e-06 - val_accuracy: 1.0000\n",
      "Epoch 26/30\n",
      "5/5 [==============================] - 1s 280ms/step - loss: 5.0408e-07 - accuracy: 1.0000 - val_loss: 4.5555e-06 - val_accuracy: 1.0000\n",
      "Epoch 27/30\n",
      "5/5 [==============================] - 1s 301ms/step - loss: 5.0152e-07 - accuracy: 1.0000 - val_loss: 4.5179e-06 - val_accuracy: 1.0000\n",
      "Epoch 28/30\n",
      "5/5 [==============================] - 1s 265ms/step - loss: 4.9812e-07 - accuracy: 1.0000 - val_loss: 4.4775e-06 - val_accuracy: 1.0000\n",
      "Epoch 29/30\n",
      "5/5 [==============================] - 1s 258ms/step - loss: 4.9301e-07 - accuracy: 1.0000 - val_loss: 4.4374e-06 - val_accuracy: 1.0000\n",
      "Epoch 30/30\n",
      "5/5 [==============================] - 1s 280ms/step - loss: 4.8960e-07 - accuracy: 1.0000 - val_loss: 4.4015e-06 - val_accuracy: 1.0000\n"
     ]
    }
   ],
   "source": [
    "history = model.fit(xtrain ,ytrain , epochs = 30,validation_data = (xvalid, yvalid) ,\n",
    "                    callbacks = [checkpoint_cb , early_stopping_cb])"
   ]
  },
  {
   "cell_type": "code",
   "execution_count": 31,
   "metadata": {},
   "outputs": [
    {
     "name": "stdout",
     "output_type": "stream",
     "text": [
      "4/4 [==============================] - 0s 20ms/step\n"
     ]
    }
   ],
   "source": [
    "preds = model.predict(xtest)"
   ]
  },
  {
   "cell_type": "code",
   "execution_count": 32,
   "metadata": {},
   "outputs": [
    {
     "data": {
      "text/plain": [
       "array([[5.21327495e-11, 7.36590550e-07, 9.99999285e-01],\n",
       "       [1.00000000e+00, 1.47107398e-25, 3.57074873e-12],\n",
       "       [9.10934887e-07, 2.01038059e-17, 9.99999046e-01],\n",
       "       [1.45119819e-10, 1.40292723e-32, 1.00000000e+00],\n",
       "       [7.86673329e-34, 1.00000000e+00, 2.15266444e-34],\n",
       "       [5.60049099e-12, 2.86185165e-13, 1.00000000e+00],\n",
       "       [2.96197681e-16, 1.00000000e+00, 4.44484624e-22],\n",
       "       [8.51660119e-15, 2.15390790e-31, 1.00000000e+00],\n",
       "       [1.47932031e-22, 1.00000000e+00, 5.77075270e-25],\n",
       "       [5.22676371e-17, 1.00000000e+00, 1.62440727e-20],\n",
       "       [1.00000000e+00, 1.77099511e-21, 1.11085696e-10],\n",
       "       [1.12494630e-18, 1.00000000e+00, 4.56953380e-26],\n",
       "       [3.82728211e-16, 1.00000000e+00, 8.02527611e-22],\n",
       "       [1.00000000e+00, 1.46454331e-20, 2.60471875e-08],\n",
       "       [8.31744612e-14, 1.33417011e-33, 1.00000000e+00],\n",
       "       [1.39530856e-13, 1.96808881e-30, 1.00000000e+00],\n",
       "       [6.80199684e-17, 1.00000000e+00, 1.51275590e-22],\n",
       "       [1.00000000e+00, 7.41319019e-24, 1.56038919e-14],\n",
       "       [1.00000000e+00, 3.58526856e-21, 8.62462712e-10],\n",
       "       [1.00000000e+00, 6.92223672e-21, 7.17525421e-15],\n",
       "       [1.36622766e-08, 1.00000000e+00, 3.77476406e-09],\n",
       "       [1.63470406e-13, 1.00000000e+00, 3.71610942e-19],\n",
       "       [3.98279042e-07, 9.99999642e-01, 3.33301824e-11],\n",
       "       [9.56882289e-08, 9.99999881e-01, 2.25238210e-08],\n",
       "       [7.86673329e-34, 1.00000000e+00, 2.15266444e-34],\n",
       "       [8.31744612e-14, 1.33417011e-33, 1.00000000e+00],\n",
       "       [2.73759314e-13, 2.03260103e-15, 1.00000000e+00],\n",
       "       [3.68172402e-11, 5.06249234e-33, 1.00000000e+00],\n",
       "       [5.89648830e-10, 5.73204545e-07, 9.99999404e-01],\n",
       "       [3.98279042e-07, 9.99999642e-01, 3.33301824e-11],\n",
       "       [5.31993842e-25, 1.00000000e+00, 2.06369378e-25],\n",
       "       [5.99265026e-10, 9.53908211e-31, 1.00000000e+00],\n",
       "       [1.36896522e-10, 1.90151012e-27, 1.00000000e+00],\n",
       "       [8.63014156e-06, 8.80873630e-19, 9.99991417e-01],\n",
       "       [7.30689266e-17, 1.00000000e+00, 1.94800647e-20],\n",
       "       [1.00000000e+00, 1.04794891e-19, 2.18209367e-15],\n",
       "       [1.00000000e+00, 6.96486772e-25, 6.15185596e-14],\n",
       "       [1.11649821e-11, 3.30398511e-30, 1.00000000e+00],\n",
       "       [1.48552171e-10, 1.12703438e-32, 1.00000000e+00],\n",
       "       [1.00000000e+00, 9.23000786e-26, 1.07875563e-10],\n",
       "       [1.00000000e+00, 1.28436248e-24, 4.29347550e-14],\n",
       "       [6.10748535e-11, 3.41260071e-29, 1.00000000e+00],\n",
       "       [0.00000000e+00, 1.00000000e+00, 1.33871362e-24],\n",
       "       [4.31938125e-22, 1.00000000e+00, 5.17513504e-19],\n",
       "       [9.43585439e-18, 1.00000000e+00, 2.32475873e-23],\n",
       "       [1.71830628e-09, 2.84352627e-28, 1.00000000e+00],\n",
       "       [1.00000000e+00, 1.42363977e-25, 8.10345454e-12],\n",
       "       [4.83784520e-15, 5.83488124e-32, 1.00000000e+00],\n",
       "       [4.78973334e-07, 7.69219655e-30, 9.99999523e-01],\n",
       "       [1.78248379e-28, 1.00000000e+00, 2.27768934e-31],\n",
       "       [1.00000000e+00, 6.25886541e-24, 1.21081327e-14],\n",
       "       [1.00000000e+00, 9.23000786e-26, 1.07875563e-10],\n",
       "       [3.61254264e-31, 1.00000000e+00, 8.70585736e-33],\n",
       "       [3.35215015e-12, 2.30507991e-19, 1.00000000e+00],\n",
       "       [1.57206781e-09, 5.33123481e-32, 1.00000000e+00],\n",
       "       [9.99999881e-01, 1.88249061e-21, 6.11386994e-08],\n",
       "       [2.19551904e-10, 5.64223956e-05, 9.99943614e-01],\n",
       "       [1.00000000e+00, 4.85562524e-25, 1.99782899e-10],\n",
       "       [5.60049099e-12, 2.86185165e-13, 1.00000000e+00],\n",
       "       [2.59462337e-04, 6.01879717e-15, 9.99740541e-01],\n",
       "       [5.10751121e-08, 1.00000000e+00, 6.84039225e-09],\n",
       "       [1.00000000e+00, 1.36363334e-25, 4.92559899e-12],\n",
       "       [1.41417047e-21, 1.00000000e+00, 1.00381299e-25],\n",
       "       [1.46180055e-08, 1.28970276e-26, 1.00000000e+00],\n",
       "       [1.82560907e-05, 3.37038235e-18, 9.99981761e-01],\n",
       "       [2.19551904e-10, 5.64223956e-05, 9.99943614e-01],\n",
       "       [1.45612363e-12, 3.92371222e-31, 1.00000000e+00],\n",
       "       [1.51457163e-11, 4.56908088e-11, 1.00000000e+00],\n",
       "       [1.35858658e-10, 1.26839040e-27, 1.00000000e+00],\n",
       "       [5.93586330e-17, 1.00000000e+00, 1.00140509e-22],\n",
       "       [2.03170341e-21, 1.00000000e+00, 3.29789407e-28],\n",
       "       [1.00000000e+00, 3.97411653e-23, 7.07274246e-13],\n",
       "       [1.00000000e+00, 6.92223672e-21, 7.17525421e-15],\n",
       "       [1.27691746e-09, 1.00000000e+00, 4.89071457e-13],\n",
       "       [3.40946845e-12, 3.42532683e-31, 1.00000000e+00],\n",
       "       [1.80068151e-15, 1.00000000e+00, 1.28412011e-20],\n",
       "       [5.67721969e-15, 3.16380331e-31, 1.00000000e+00],\n",
       "       [1.00000000e+00, 4.59191010e-22, 1.08834660e-11],\n",
       "       [2.93663725e-33, 1.00000000e+00, 3.63509910e-33],\n",
       "       [1.00000000e+00, 1.36363334e-25, 4.92559899e-12],\n",
       "       [1.00000000e+00, 9.23000786e-26, 1.07875563e-10],\n",
       "       [2.96197681e-16, 1.00000000e+00, 4.44484624e-22],\n",
       "       [1.00000000e+00, 3.55124748e-24, 5.35608535e-09],\n",
       "       [3.98076221e-23, 1.00000000e+00, 2.85123051e-26],\n",
       "       [0.00000000e+00, 1.00000000e+00, 9.67280053e-37],\n",
       "       [1.00000000e+00, 5.08166840e-25, 4.16837219e-13],\n",
       "       [1.00000000e+00, 4.36810900e-24, 1.27906186e-10],\n",
       "       [1.79425461e-10, 1.59630330e-28, 1.00000000e+00],\n",
       "       [2.31682793e-06, 9.99997735e-01, 3.07064457e-10],\n",
       "       [4.09548520e-08, 1.00000000e+00, 3.32538974e-09],\n",
       "       [1.00000000e+00, 4.67160574e-17, 1.75204318e-09],\n",
       "       [1.13026433e-08, 3.76388988e-26, 1.00000000e+00],\n",
       "       [1.00000000e+00, 3.37787992e-20, 4.82474911e-12],\n",
       "       [1.00000000e+00, 1.23667524e-20, 1.11992309e-08],\n",
       "       [1.00000000e+00, 2.05404909e-25, 3.64410021e-12],\n",
       "       [1.00000000e+00, 3.56448378e-22, 7.21898991e-15],\n",
       "       [1.00000000e+00, 3.97411653e-23, 7.07274246e-13],\n",
       "       [0.00000000e+00, 1.00000000e+00, 1.17861167e-30],\n",
       "       [1.58212705e-16, 1.00000000e+00, 1.05675999e-20],\n",
       "       [0.00000000e+00, 1.00000000e+00, 8.80950794e-36],\n",
       "       [4.37447994e-12, 1.54510765e-10, 1.00000000e+00],\n",
       "       [1.00000000e+00, 1.23667524e-20, 1.11992309e-08],\n",
       "       [1.00000000e+00, 3.52280845e-22, 8.34900238e-09],\n",
       "       [1.00000000e+00, 2.55659475e-20, 1.31131059e-14],\n",
       "       [5.67721969e-15, 3.16380331e-31, 1.00000000e+00],\n",
       "       [7.68741861e-15, 1.00000000e+00, 1.25435503e-19],\n",
       "       [1.00000000e+00, 2.00395267e-23, 3.94358169e-15],\n",
       "       [2.43731211e-15, 1.00000000e+00, 1.38269909e-19],\n",
       "       [7.28417923e-33, 1.00000000e+00, 2.36480349e-30],\n",
       "       [1.12494630e-18, 1.00000000e+00, 4.56953380e-26],\n",
       "       [4.02087695e-12, 1.08272523e-11, 1.00000000e+00],\n",
       "       [1.00000000e+00, 6.37000915e-22, 5.68045339e-13],\n",
       "       [9.99999881e-01, 1.88249061e-21, 6.11386994e-08],\n",
       "       [1.56560390e-32, 1.00000000e+00, 1.11342338e-33],\n",
       "       [0.00000000e+00, 1.00000000e+00, 6.71792152e-35],\n",
       "       [3.90172059e-34, 1.00000000e+00, 1.28150242e-27],\n",
       "       [1.74580433e-10, 5.39580012e-27, 1.00000000e+00],\n",
       "       [1.00000000e+00, 1.23667524e-20, 1.11992309e-08],\n",
       "       [0.00000000e+00, 1.00000000e+00, 1.33871362e-24],\n",
       "       [5.43110179e-09, 2.19341945e-02, 9.78065789e-01],\n",
       "       [6.74583077e-07, 3.46976468e-22, 9.99999285e-01]], dtype=float32)"
      ]
     },
     "execution_count": 32,
     "metadata": {},
     "output_type": "execute_result"
    }
   ],
   "source": [
    "preds"
   ]
  },
  {
   "cell_type": "code",
   "execution_count": 33,
   "metadata": {},
   "outputs": [],
   "source": [
    "x = []\n",
    "for pred in preds:\n",
    "    x.append(np.argmax(pred))"
   ]
  },
  {
   "cell_type": "code",
   "execution_count": 34,
   "metadata": {},
   "outputs": [
    {
     "data": {
      "text/plain": [
       "array([2, 0, 2, 2, 1, 2, 1, 2, 1, 1, 0, 1, 1, 0, 2, 2, 1, 0, 0, 0, 1, 1,\n",
       "       1, 1, 1, 2, 2, 2, 2, 1, 1, 2, 2, 2, 1, 0, 0, 2, 2, 0, 0, 2, 1, 1,\n",
       "       1, 2, 0, 2, 2, 1, 0, 0, 1, 2, 2, 0, 2, 0, 2, 2, 1, 0, 1, 2, 2, 2,\n",
       "       2, 2, 2, 1, 1, 0, 0, 1, 2, 1, 2, 0, 1, 0, 0, 1, 0, 1, 1, 0, 0, 2,\n",
       "       1, 1, 0, 2, 0, 0, 0, 0, 0, 1, 1, 1, 2, 0, 0, 0, 2, 1, 0, 1, 1, 1,\n",
       "       2, 0, 0, 1, 1, 1, 2, 0, 1, 2, 2])"
      ]
     },
     "execution_count": 34,
     "metadata": {},
     "output_type": "execute_result"
    }
   ],
   "source": [
    "ytest"
   ]
  },
  {
   "cell_type": "code",
   "execution_count": 35,
   "metadata": {},
   "outputs": [],
   "source": [
    "from sklearn.metrics import confusion_matrix"
   ]
  },
  {
   "cell_type": "code",
   "execution_count": 36,
   "metadata": {},
   "outputs": [
    {
     "data": {
      "text/plain": [
       "array([[37,  0,  0],\n",
       "       [ 0, 43,  0],\n",
       "       [ 0,  0, 41]], dtype=int64)"
      ]
     },
     "execution_count": 36,
     "metadata": {},
     "output_type": "execute_result"
    }
   ],
   "source": [
    "confusion_matrix(ytest, x)"
   ]
  },
  {
   "cell_type": "code",
   "execution_count": null,
   "metadata": {},
   "outputs": [],
   "source": []
  },
  {
   "cell_type": "code",
   "execution_count": null,
   "metadata": {},
   "outputs": [],
   "source": []
  },
  {
   "cell_type": "code",
   "execution_count": null,
   "metadata": {},
   "outputs": [],
   "source": []
  },
  {
   "cell_type": "code",
   "execution_count": null,
   "metadata": {},
   "outputs": [],
   "source": []
  },
  {
   "cell_type": "code",
   "execution_count": null,
   "metadata": {},
   "outputs": [],
   "source": []
  },
  {
   "cell_type": "code",
   "execution_count": null,
   "metadata": {},
   "outputs": [],
   "source": []
  }
 ],
 "metadata": {
  "kernelspec": {
   "display_name": "Python 3 (ipykernel)",
   "language": "python",
   "name": "python3"
  },
  "language_info": {
   "codemirror_mode": {
    "name": "ipython",
    "version": 3
   },
   "file_extension": ".py",
   "mimetype": "text/x-python",
   "name": "python",
   "nbconvert_exporter": "python",
   "pygments_lexer": "ipython3",
   "version": "3.10.1"
  },
  "vscode": {
   "interpreter": {
    "hash": "625782bb4a5ed1925d970560710afcd312a01e169866bd75e8adcc34d822bdd0"
   }
  }
 },
 "nbformat": 4,
 "nbformat_minor": 2
}
