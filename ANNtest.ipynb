{
 "cells": [
  {
   "cell_type": "code",
   "execution_count": 1,
   "metadata": {},
   "outputs": [],
   "source": [
    "import numpy as np\n",
    "import matplotlib.pyplot as plt\n",
    "import tensorflow as tf"
   ]
  },
  {
   "cell_type": "code",
   "execution_count": 2,
   "metadata": {},
   "outputs": [
    {
     "data": {
      "text/plain": [
       "'2.10.0'"
      ]
     },
     "execution_count": 2,
     "metadata": {},
     "output_type": "execute_result"
    }
   ],
   "source": [
    "tf.__version__"
   ]
  },
  {
   "cell_type": "code",
   "execution_count": 6,
   "metadata": {},
   "outputs": [],
   "source": [
    "import os"
   ]
  },
  {
   "cell_type": "code",
   "execution_count": 50,
   "metadata": {},
   "outputs": [],
   "source": [
    "rootdir = './test/ANN/'\n",
    "labels = []\n",
    "\n",
    "for file in os.listdir(rootdir):\n",
    "    labels.append(file)\n",
    "    "
   ]
  },
  {
   "cell_type": "code",
   "execution_count": 51,
   "metadata": {},
   "outputs": [
    {
     "data": {
      "text/plain": [
       "['100519733015']"
      ]
     },
     "execution_count": 51,
     "metadata": {},
     "output_type": "execute_result"
    }
   ],
   "source": [
    "labels"
   ]
  },
  {
   "cell_type": "code",
   "execution_count": 52,
   "metadata": {},
   "outputs": [],
   "source": [
    "x, y = [] , []\n"
   ]
  },
  {
   "cell_type": "code",
   "execution_count": 53,
   "metadata": {},
   "outputs": [],
   "source": [
    "from PIL import Image"
   ]
  },
  {
   "cell_type": "code",
   "execution_count": 54,
   "metadata": {},
   "outputs": [],
   "source": [
    "for index , label in enumerate(labels):\n",
    "    path = rootdir+ label\n",
    "    for file in os.listdir(path):\n",
    "        image = Image.open(os.path.join( path, file) , \"r\")\n",
    "        image = np.asarray(image)\n",
    "        x.append(image / 255)\n",
    "        y.append(index)"
   ]
  },
  {
   "cell_type": "code",
   "execution_count": 55,
   "metadata": {},
   "outputs": [
    {
     "data": {
      "text/plain": [
       "11"
      ]
     },
     "execution_count": 55,
     "metadata": {},
     "output_type": "execute_result"
    }
   ],
   "source": [
    "len(x)"
   ]
  },
  {
   "cell_type": "code",
   "execution_count": 56,
   "metadata": {},
   "outputs": [],
   "source": [
    "x = np.asarray(x)\n",
    "y = np.asarray(y)"
   ]
  },
  {
   "cell_type": "code",
   "execution_count": 49,
   "metadata": {},
   "outputs": [
    {
     "data": {
      "text/plain": [
       "11"
      ]
     },
     "execution_count": 49,
     "metadata": {},
     "output_type": "execute_result"
    }
   ],
   "source": [
    "len(y)"
   ]
  },
  {
   "cell_type": "code",
   "execution_count": 20,
   "metadata": {},
   "outputs": [
    {
     "data": {
      "text/plain": [
       "numpy.ndarray"
      ]
     },
     "execution_count": 20,
     "metadata": {},
     "output_type": "execute_result"
    }
   ],
   "source": [
    "type(x[6])"
   ]
  },
  {
   "cell_type": "code",
   "execution_count": 21,
   "metadata": {},
   "outputs": [
    {
     "data": {
      "text/plain": [
       "array([[0.74901961, 0.74509804, 0.7372549 , ..., 0.11372549, 0.11372549,\n",
       "        0.11372549],\n",
       "       [0.74117647, 0.74117647, 0.7372549 , ..., 0.11372549, 0.11372549,\n",
       "        0.11372549],\n",
       "       [0.74117647, 0.7372549 , 0.7372549 , ..., 0.11372549, 0.11372549,\n",
       "        0.11372549],\n",
       "       ...,\n",
       "       [0.59215686, 0.59607843, 0.6       , ..., 0.12941176, 0.06666667,\n",
       "        0.09019608],\n",
       "       [0.58823529, 0.59607843, 0.6       , ..., 0.14117647, 0.0745098 ,\n",
       "        0.09019608],\n",
       "       [0.58823529, 0.59215686, 0.6       , ..., 0.15294118, 0.08235294,\n",
       "        0.10196078]])"
      ]
     },
     "execution_count": 21,
     "metadata": {},
     "output_type": "execute_result"
    }
   ],
   "source": [
    "x[0]"
   ]
  },
  {
   "cell_type": "code",
   "execution_count": 22,
   "metadata": {},
   "outputs": [],
   "source": [
    "# model = tf.keras.models.Sequential([\n",
    "#     tf.keras.layers.Flatten(input_shape=[256, 256]),\n",
    "#     tf.keras.layers.Dense(200, activation=\"relu\"),\n",
    "#     tf.keras.layers.Dense(150, activation=\"relu\"),\n",
    "#     tf.keras.layers.Dense(len(labels), activation=\"softmax\")\n",
    "# ])\n",
    "\n",
    "model = tf.keras.models.load_model(\"model1ANN.h5\")"
   ]
  },
  {
   "cell_type": "code",
   "execution_count": 23,
   "metadata": {},
   "outputs": [
    {
     "name": "stdout",
     "output_type": "stream",
     "text": [
      "Model: \"sequential\"\n",
      "_________________________________________________________________\n",
      " Layer (type)                Output Shape              Param #   \n",
      "=================================================================\n",
      " flatten (Flatten)           (None, 65536)             0         \n",
      "                                                                 \n",
      " dense (Dense)               (None, 200)               13107400  \n",
      "                                                                 \n",
      " dense_1 (Dense)             (None, 150)               30150     \n",
      "                                                                 \n",
      " dense_2 (Dense)             (None, 4)                 604       \n",
      "                                                                 \n",
      "=================================================================\n",
      "Total params: 13,138,154\n",
      "Trainable params: 13,138,154\n",
      "Non-trainable params: 0\n",
      "_________________________________________________________________\n"
     ]
    }
   ],
   "source": [
    "model.summary()"
   ]
  },
  {
   "cell_type": "code",
   "execution_count": 24,
   "metadata": {},
   "outputs": [
    {
     "data": {
      "text/plain": [
       "[<keras.layers.reshaping.flatten.Flatten at 0x2c0521d3220>,\n",
       " <keras.layers.core.dense.Dense at 0x2c051fdc880>,\n",
       " <keras.layers.core.dense.Dense at 0x2c051fdd3c0>,\n",
       " <keras.layers.core.dense.Dense at 0x2c051fde080>]"
      ]
     },
     "execution_count": 24,
     "metadata": {},
     "output_type": "execute_result"
    }
   ],
   "source": [
    "model.layers"
   ]
  },
  {
   "cell_type": "code",
   "execution_count": 20,
   "metadata": {},
   "outputs": [],
   "source": [
    "from sklearn.model_selection import train_test_split"
   ]
  },
  {
   "cell_type": "code",
   "execution_count": 21,
   "metadata": {},
   "outputs": [],
   "source": [
    "xtrain , xtest , ytrain , ytest = train_test_split(x , y, test_size = 0.2)"
   ]
  },
  {
   "cell_type": "code",
   "execution_count": 22,
   "metadata": {},
   "outputs": [
    {
     "data": {
      "text/plain": [
       "514"
      ]
     },
     "execution_count": 22,
     "metadata": {},
     "output_type": "execute_result"
    }
   ],
   "source": [
    "len(xtrain)"
   ]
  },
  {
   "cell_type": "code",
   "execution_count": 23,
   "metadata": {},
   "outputs": [],
   "source": [
    "model.compile(loss = \"sparse_categorical_crossentropy\", optimizer = \"adam\" , metrics = [\"accuracy\"])"
   ]
  },
  {
   "cell_type": "code",
   "execution_count": 24,
   "metadata": {},
   "outputs": [],
   "source": [
    "xtrain , xvalid = xtrain[:140], xtrain[140:]\n",
    "ytrain , yvalid = ytrain[:140] , ytrain[140:]"
   ]
  },
  {
   "cell_type": "code",
   "execution_count": 25,
   "metadata": {},
   "outputs": [
    {
     "data": {
      "text/plain": [
       "140"
      ]
     },
     "execution_count": 25,
     "metadata": {},
     "output_type": "execute_result"
    }
   ],
   "source": [
    "len(xtrain)"
   ]
  },
  {
   "cell_type": "code",
   "execution_count": 26,
   "metadata": {},
   "outputs": [],
   "source": [
    "checkpoint_cb = tf.keras.callbacks.ModelCheckpoint('model1ANN.h5' , save_best_only = True)\n",
    "early_stopping_cb = tf.keras.callbacks.EarlyStopping(patience=4,restore_best_weights=True)\n"
   ]
  },
  {
   "cell_type": "code",
   "execution_count": 27,
   "metadata": {},
   "outputs": [],
   "source": [
    "xtrain = np.asarray(xtrain)"
   ]
  },
  {
   "cell_type": "code",
   "execution_count": 28,
   "metadata": {},
   "outputs": [
    {
     "data": {
      "text/plain": [
       "(140, 256, 256)"
      ]
     },
     "execution_count": 28,
     "metadata": {},
     "output_type": "execute_result"
    }
   ],
   "source": [
    "xtrain.shape"
   ]
  },
  {
   "cell_type": "code",
   "execution_count": 29,
   "metadata": {},
   "outputs": [
    {
     "name": "stdout",
     "output_type": "stream",
     "text": [
      "Epoch 1/30\n",
      "5/5 [==============================] - 4s 511ms/step - loss: 11.3344 - accuracy: 0.4000 - val_loss: 4.8615 - val_accuracy: 0.3503\n",
      "Epoch 2/30\n",
      "5/5 [==============================] - 2s 383ms/step - loss: 1.6491 - accuracy: 0.7143 - val_loss: 1.0999 - val_accuracy: 0.8663\n",
      "Epoch 3/30\n",
      "5/5 [==============================] - 1s 350ms/step - loss: 0.5524 - accuracy: 0.9429 - val_loss: 0.3061 - val_accuracy: 0.9572\n",
      "Epoch 4/30\n",
      "5/5 [==============================] - 2s 377ms/step - loss: 0.2574 - accuracy: 0.9786 - val_loss: 0.0818 - val_accuracy: 0.9920\n",
      "Epoch 5/30\n",
      "5/5 [==============================] - 1s 153ms/step - loss: 0.0011 - accuracy: 1.0000 - val_loss: 0.1084 - val_accuracy: 0.9920\n",
      "Epoch 6/30\n",
      "5/5 [==============================] - 1s 161ms/step - loss: 9.0338e-04 - accuracy: 1.0000 - val_loss: 0.1232 - val_accuracy: 0.9840\n",
      "Epoch 7/30\n",
      "5/5 [==============================] - 1s 166ms/step - loss: 0.0033 - accuracy: 1.0000 - val_loss: 0.0893 - val_accuracy: 0.9893\n",
      "Epoch 8/30\n",
      "5/5 [==============================] - 1s 282ms/step - loss: 3.0369e-04 - accuracy: 1.0000 - val_loss: 0.0413 - val_accuracy: 0.9973\n",
      "Epoch 9/30\n",
      "5/5 [==============================] - 1s 288ms/step - loss: 9.3966e-05 - accuracy: 1.0000 - val_loss: 0.0384 - val_accuracy: 0.9947\n",
      "Epoch 10/30\n",
      "5/5 [==============================] - 1s 152ms/step - loss: 6.9169e-05 - accuracy: 1.0000 - val_loss: 0.0545 - val_accuracy: 0.9947\n",
      "Epoch 11/30\n",
      "5/5 [==============================] - 1s 150ms/step - loss: 1.7743e-04 - accuracy: 1.0000 - val_loss: 0.0627 - val_accuracy: 0.9947\n",
      "Epoch 12/30\n",
      "5/5 [==============================] - 1s 146ms/step - loss: 1.8766e-04 - accuracy: 1.0000 - val_loss: 0.0675 - val_accuracy: 0.9947\n",
      "Epoch 13/30\n",
      "5/5 [==============================] - 1s 161ms/step - loss: 1.2010e-04 - accuracy: 1.0000 - val_loss: 0.0662 - val_accuracy: 0.9947\n"
     ]
    }
   ],
   "source": [
    "history = model.fit(xtrain ,ytrain , epochs = 30,validation_data = (xvalid, yvalid) ,\n",
    "                    callbacks = [checkpoint_cb , early_stopping_cb])"
   ]
  },
  {
   "cell_type": "code",
   "execution_count": 25,
   "metadata": {},
   "outputs": [
    {
     "name": "stdout",
     "output_type": "stream",
     "text": [
      "1/1 [==============================] - 1s 783ms/step\n"
     ]
    }
   ],
   "source": [
    "preds = model.predict(x)"
   ]
  },
  {
   "cell_type": "code",
   "execution_count": 26,
   "metadata": {},
   "outputs": [
    {
     "data": {
      "text/plain": [
       "array([[3.46665786e-11, 4.04016253e-17, 1.00000000e+00, 8.10688268e-13],\n",
       "       [1.27036074e-07, 3.29354355e-13, 9.99999881e-01, 6.02679906e-09],\n",
       "       [6.51756593e-10, 2.09556425e-14, 1.00000000e+00, 1.04289494e-10],\n",
       "       [1.27036074e-07, 3.29354355e-13, 9.99999881e-01, 6.02679906e-09],\n",
       "       [1.38431335e-06, 1.08722623e-12, 9.99998569e-01, 3.82587650e-08],\n",
       "       [1.41843177e-08, 5.83264556e-13, 1.00000000e+00, 2.16171925e-09],\n",
       "       [1.41843177e-08, 5.83264556e-13, 1.00000000e+00, 2.16171925e-09],\n",
       "       [1.41843177e-08, 5.83264556e-13, 1.00000000e+00, 2.16171925e-09],\n",
       "       [8.73775052e-10, 1.27696343e-13, 1.00000000e+00, 1.89892421e-10],\n",
       "       [6.51756593e-10, 2.09556425e-14, 1.00000000e+00, 1.04289494e-10],\n",
       "       [6.51756593e-10, 2.09556425e-14, 1.00000000e+00, 1.04289494e-10]],\n",
       "      dtype=float32)"
      ]
     },
     "execution_count": 26,
     "metadata": {},
     "output_type": "execute_result"
    }
   ],
   "source": [
    "preds"
   ]
  },
  {
   "cell_type": "code",
   "execution_count": 27,
   "metadata": {},
   "outputs": [],
   "source": [
    "x = []\n",
    "for pred in preds:\n",
    "    x.append(np.argmax(pred))"
   ]
  },
  {
   "cell_type": "code",
   "execution_count": 29,
   "metadata": {},
   "outputs": [
    {
     "data": {
      "text/plain": [
       "array([0, 0, 0, 0, 0, 0, 0, 0, 0, 0, 0])"
      ]
     },
     "execution_count": 29,
     "metadata": {},
     "output_type": "execute_result"
    }
   ],
   "source": [
    "y"
   ]
  },
  {
   "cell_type": "code",
   "execution_count": 30,
   "metadata": {},
   "outputs": [],
   "source": [
    "from sklearn.metrics import confusion_matrix"
   ]
  },
  {
   "cell_type": "code",
   "execution_count": 32,
   "metadata": {},
   "outputs": [
    {
     "data": {
      "text/plain": [
       "array([[ 0, 11],\n",
       "       [ 0,  0]], dtype=int64)"
      ]
     },
     "execution_count": 32,
     "metadata": {},
     "output_type": "execute_result"
    }
   ],
   "source": [
    "confusion_matrix(y, x)"
   ]
  },
  {
   "cell_type": "code",
   "execution_count": 33,
   "metadata": {},
   "outputs": [
    {
     "data": {
      "text/plain": [
       "[2, 2, 2, 2, 2, 2, 2, 2, 2, 2, 2]"
      ]
     },
     "execution_count": 33,
     "metadata": {},
     "output_type": "execute_result"
    }
   ],
   "source": [
    "x"
   ]
  },
  {
   "cell_type": "code",
   "execution_count": null,
   "metadata": {},
   "outputs": [],
   "source": []
  },
  {
   "cell_type": "code",
   "execution_count": null,
   "metadata": {},
   "outputs": [],
   "source": []
  },
  {
   "cell_type": "code",
   "execution_count": null,
   "metadata": {},
   "outputs": [],
   "source": []
  },
  {
   "cell_type": "code",
   "execution_count": null,
   "metadata": {},
   "outputs": [],
   "source": []
  },
  {
   "cell_type": "code",
   "execution_count": null,
   "metadata": {},
   "outputs": [],
   "source": []
  }
 ],
 "metadata": {
  "kernelspec": {
   "display_name": "Python 3 (ipykernel)",
   "language": "python",
   "name": "python3"
  },
  "language_info": {
   "codemirror_mode": {
    "name": "ipython",
    "version": 3
   },
   "file_extension": ".py",
   "mimetype": "text/x-python",
   "name": "python",
   "nbconvert_exporter": "python",
   "pygments_lexer": "ipython3",
   "version": "3.10.1"
  },
  "vscode": {
   "interpreter": {
    "hash": "625782bb4a5ed1925d970560710afcd312a01e169866bd75e8adcc34d822bdd0"
   }
  }
 },
 "nbformat": 4,
 "nbformat_minor": 2
}
